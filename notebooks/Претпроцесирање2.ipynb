{
 "cells": [
  {
   "cell_type": "markdown",
   "id": "approved-fusion",
   "metadata": {},
   "source": [
    "# Претпроцесирање на податочното множество"
   ]
  },
  {
   "cell_type": "markdown",
   "id": "equipped-secretariat",
   "metadata": {},
   "source": [
    "Пополнување на missing values, кодирање на категорични атрибути, трансформација на атрибути"
   ]
  },
  {
   "cell_type": "code",
   "execution_count": 1,
   "id": "military-cleaning",
   "metadata": {},
   "outputs": [],
   "source": [
    "import pandas as pd\n",
    "import matplotlib.pyplot as plt\n",
    "import numpy as np"
   ]
  },
  {
   "cell_type": "code",
   "execution_count": 2,
   "id": "knowing-difficulty",
   "metadata": {},
   "outputs": [
    {
     "name": "stdout",
     "output_type": "stream",
     "text": [
      "Number of records = 378\n",
      "Number of features = 55\n"
     ]
    },
    {
     "data": {
      "text/html": [
       "<div>\n",
       "<style scoped>\n",
       "    .dataframe tbody tr th:only-of-type {\n",
       "        vertical-align: middle;\n",
       "    }\n",
       "\n",
       "    .dataframe tbody tr th {\n",
       "        vertical-align: top;\n",
       "    }\n",
       "\n",
       "    .dataframe thead th {\n",
       "        text-align: right;\n",
       "    }\n",
       "</style>\n",
       "<table border=\"1\" class=\"dataframe\">\n",
       "  <thead>\n",
       "    <tr style=\"text-align: right;\">\n",
       "      <th></th>\n",
       "      <th>Brand</th>\n",
       "      <th>Battery capacity</th>\n",
       "      <th>Screen Size</th>\n",
       "      <th>Touchscreen</th>\n",
       "      <th>Internal storage</th>\n",
       "      <th>Headphones</th>\n",
       "      <th>Face unlock</th>\n",
       "      <th>Fingerprint sensor</th>\n",
       "      <th>Wireless charging</th>\n",
       "      <th>NFC</th>\n",
       "      <th>...</th>\n",
       "      <th>Light Sensor</th>\n",
       "      <th>Compass Sensor</th>\n",
       "      <th>Proximity Sensor</th>\n",
       "      <th>Magnetic Sensor</th>\n",
       "      <th>Gravity Sensor</th>\n",
       "      <th>Heathtracking Sensor</th>\n",
       "      <th>Gyroscope Sensor</th>\n",
       "      <th>Accelerometar Sensor</th>\n",
       "      <th>Vibration Sensor</th>\n",
       "      <th>Laser Sensor</th>\n",
       "    </tr>\n",
       "  </thead>\n",
       "  <tbody>\n",
       "    <tr>\n",
       "      <th>0</th>\n",
       "      <td>Oppo</td>\n",
       "      <td>4000</td>\n",
       "      <td>6.53</td>\n",
       "      <td>Yes</td>\n",
       "      <td>128</td>\n",
       "      <td>Yes</td>\n",
       "      <td>Yes</td>\n",
       "      <td>Yes</td>\n",
       "      <td>No</td>\n",
       "      <td>No</td>\n",
       "      <td>...</td>\n",
       "      <td>1</td>\n",
       "      <td>1</td>\n",
       "      <td>1</td>\n",
       "      <td>0</td>\n",
       "      <td>0</td>\n",
       "      <td>0</td>\n",
       "      <td>1</td>\n",
       "      <td>1</td>\n",
       "      <td>0</td>\n",
       "      <td>0</td>\n",
       "    </tr>\n",
       "    <tr>\n",
       "      <th>1</th>\n",
       "      <td>Apple</td>\n",
       "      <td>1960</td>\n",
       "      <td>4.70</td>\n",
       "      <td>Yes</td>\n",
       "      <td>32</td>\n",
       "      <td>Yes</td>\n",
       "      <td>No</td>\n",
       "      <td>Yes</td>\n",
       "      <td>No</td>\n",
       "      <td>Yes</td>\n",
       "      <td>...</td>\n",
       "      <td>1</td>\n",
       "      <td>1</td>\n",
       "      <td>1</td>\n",
       "      <td>0</td>\n",
       "      <td>0</td>\n",
       "      <td>0</td>\n",
       "      <td>1</td>\n",
       "      <td>1</td>\n",
       "      <td>0</td>\n",
       "      <td>0</td>\n",
       "    </tr>\n",
       "    <tr>\n",
       "      <th>2</th>\n",
       "      <td>Apple</td>\n",
       "      <td>1960</td>\n",
       "      <td>4.70</td>\n",
       "      <td>Yes</td>\n",
       "      <td>32</td>\n",
       "      <td>Yes</td>\n",
       "      <td>No</td>\n",
       "      <td>Yes</td>\n",
       "      <td>No</td>\n",
       "      <td>Yes</td>\n",
       "      <td>...</td>\n",
       "      <td>1</td>\n",
       "      <td>1</td>\n",
       "      <td>1</td>\n",
       "      <td>0</td>\n",
       "      <td>0</td>\n",
       "      <td>0</td>\n",
       "      <td>1</td>\n",
       "      <td>1</td>\n",
       "      <td>0</td>\n",
       "      <td>0</td>\n",
       "    </tr>\n",
       "    <tr>\n",
       "      <th>3</th>\n",
       "      <td>Apple</td>\n",
       "      <td>1715</td>\n",
       "      <td>4.70</td>\n",
       "      <td>Yes</td>\n",
       "      <td>16</td>\n",
       "      <td>Yes</td>\n",
       "      <td>No</td>\n",
       "      <td>Yes</td>\n",
       "      <td>No</td>\n",
       "      <td>Yes</td>\n",
       "      <td>...</td>\n",
       "      <td>1</td>\n",
       "      <td>1</td>\n",
       "      <td>1</td>\n",
       "      <td>0</td>\n",
       "      <td>0</td>\n",
       "      <td>0</td>\n",
       "      <td>1</td>\n",
       "      <td>1</td>\n",
       "      <td>0</td>\n",
       "      <td>0</td>\n",
       "    </tr>\n",
       "    <tr>\n",
       "      <th>4</th>\n",
       "      <td>Apple</td>\n",
       "      <td>1715</td>\n",
       "      <td>4.70</td>\n",
       "      <td>Yes</td>\n",
       "      <td>16</td>\n",
       "      <td>Yes</td>\n",
       "      <td>No</td>\n",
       "      <td>Yes</td>\n",
       "      <td>No</td>\n",
       "      <td>Yes</td>\n",
       "      <td>...</td>\n",
       "      <td>1</td>\n",
       "      <td>1</td>\n",
       "      <td>1</td>\n",
       "      <td>0</td>\n",
       "      <td>0</td>\n",
       "      <td>0</td>\n",
       "      <td>1</td>\n",
       "      <td>1</td>\n",
       "      <td>0</td>\n",
       "      <td>0</td>\n",
       "    </tr>\n",
       "  </tbody>\n",
       "</table>\n",
       "<p>5 rows × 55 columns</p>\n",
       "</div>"
      ],
      "text/plain": [
       "   Brand Battery capacity  Screen Size Touchscreen  Internal storage  \\\n",
       "0   Oppo             4000         6.53         Yes               128   \n",
       "1  Apple             1960         4.70         Yes                32   \n",
       "2  Apple             1960         4.70         Yes                32   \n",
       "3  Apple             1715         4.70         Yes                16   \n",
       "4  Apple             1715         4.70         Yes                16   \n",
       "\n",
       "  Headphones Face unlock Fingerprint sensor Wireless charging  NFC  ...  \\\n",
       "0        Yes         Yes                Yes                No   No  ...   \n",
       "1        Yes          No                Yes                No  Yes  ...   \n",
       "2        Yes          No                Yes                No  Yes  ...   \n",
       "3        Yes          No                Yes                No  Yes  ...   \n",
       "4        Yes          No                Yes                No  Yes  ...   \n",
       "\n",
       "   Light Sensor Compass Sensor Proximity Sensor Magnetic Sensor  \\\n",
       "0             1              1                1               0   \n",
       "1             1              1                1               0   \n",
       "2             1              1                1               0   \n",
       "3             1              1                1               0   \n",
       "4             1              1                1               0   \n",
       "\n",
       "   Gravity Sensor  Heathtracking Sensor Gyroscope Sensor Accelerometar Sensor  \\\n",
       "0               0                     0                1                    1   \n",
       "1               0                     0                1                    1   \n",
       "2               0                     0                1                    1   \n",
       "3               0                     0                1                    1   \n",
       "4               0                     0                1                    1   \n",
       "\n",
       "  Vibration Sensor Laser Sensor  \n",
       "0                0            0  \n",
       "1                0            0  \n",
       "2                0            0  \n",
       "3                0            0  \n",
       "4                0            0  \n",
       "\n",
       "[5 rows x 55 columns]"
      ]
     },
     "execution_count": 2,
     "metadata": {},
     "output_type": "execute_result"
    }
   ],
   "source": [
    "data = pd.read_csv(\"../data/merged.csv\")\n",
    "data = data.drop([\"Unnamed: 0\"],axis=1)\n",
    "print(\"Number of records = \" + str(data.shape[0]))\n",
    "print(\"Number of features = \" + str(data.shape[1]))\n",
    "data.head()"
   ]
  },
  {
   "cell_type": "markdown",
   "id": "caring-circus",
   "metadata": {},
   "source": [
    "### Пополнување на missing values"
   ]
  },
  {
   "cell_type": "code",
   "execution_count": 3,
   "id": "swedish-waterproof",
   "metadata": {},
   "outputs": [
    {
     "data": {
      "text/plain": [
       "Brand                      0\n",
       "Battery capacity           4\n",
       "Screen Size                0\n",
       "Touchscreen                0\n",
       "Internal storage           0\n",
       "Headphones                 0\n",
       "Face unlock                0\n",
       "Fingerprint sensor         0\n",
       "Wireless charging          0\n",
       "NFC                        0\n",
       "Number of SIMs             0\n",
       "SIM Type                   0\n",
       "4G/ LTE                    0\n",
       "5G                         0\n",
       "Expandable storage         0\n",
       "Price                      0\n",
       "3G                         0\n",
       "EDGE                       0\n",
       "GPRS                       0\n",
       "Wi-Fi                      0\n",
       "VoLTE                      0\n",
       "Usb Type                  25\n",
       "Bluetooth                  0\n",
       "OS                         0\n",
       "cpuCores                   0\n",
       "Chipset                    0\n",
       "CPU                        0\n",
       "GPS                        0\n",
       "RAM                        0\n",
       "FM Radio                   0\n",
       "Rear Camera                0\n",
       "Flash                      0\n",
       "Front Camera               0\n",
       "PPI                        0\n",
       "Width                      8\n",
       "Height                     8\n",
       "Weight                    14\n",
       "Fast Charging              0\n",
       "Removable Battery          0\n",
       "Card Slot                  0\n",
       "Launched_Month             0\n",
       "Launched_Year              0\n",
       "Number of Rear Cameras     0\n",
       "Resolution_x               0\n",
       "Resolution_y               0\n",
       "Light Sensor               0\n",
       "Compass Sensor             0\n",
       "Proximity Sensor           0\n",
       "Magnetic Sensor            0\n",
       "Gravity Sensor             0\n",
       "Heathtracking Sensor       0\n",
       "Gyroscope Sensor           0\n",
       "Accelerometar Sensor       0\n",
       "Vibration Sensor           0\n",
       "Laser Sensor               0\n",
       "dtype: int64"
      ]
     },
     "execution_count": 3,
     "metadata": {},
     "output_type": "execute_result"
    }
   ],
   "source": [
    "data.isna().sum()"
   ]
  },
  {
   "cell_type": "markdown",
   "id": "respected-setup",
   "metadata": {},
   "source": [
    "Потребно е да пополниме податоци за капацитетот на батеријата, висина, ширина, тежина и USB порта. За да го откриеме најдобриот начин за пополнување најпрво ќе ги разгледаме дистрибуциите на секој од атрибутите посебно"
   ]
  },
  {
   "cell_type": "code",
   "execution_count": 4,
   "id": "controlling-peter",
   "metadata": {},
   "outputs": [],
   "source": [
    "for index, row in data.iterrows():\n",
    "    if row['Battery capacity'] == row['Battery capacity']:\n",
    "        data.loc[index,'Battery capacity']=row['Battery capacity'].replace(\",\",\"\")"
   ]
  },
  {
   "cell_type": "code",
   "execution_count": 5,
   "id": "insured-trunk",
   "metadata": {},
   "outputs": [
    {
     "data": {
      "image/png": "[encoded data removed]",
      "text/plain": [
       "<Figure size 432x288 with 1 Axes>"
      ]
     },
     "metadata": {
      "needs_background": "light"
     },
     "output_type": "display_data"
    }
   ],
   "source": [
    "bat_cap_series = data[data['Battery capacity']==data['Battery capacity']]['Battery capacity'].astype(str).astype(int)\n",
    "plt.hist(bat_cap_series)\n",
    "plt.show()"
   ]
  },
  {
   "cell_type": "code",
   "execution_count": 6,
   "id": "remarkable-slave",
   "metadata": {},
   "outputs": [],
   "source": [
    "data['Battery capacity'].fillna(data['Battery capacity'].mode()[0], inplace=True)\n",
    "data['Battery capacity'] = data['Battery capacity'].astype(int)"
   ]
  },
  {
   "cell_type": "markdown",
   "id": "interpreted-korean",
   "metadata": {},
   "source": [
    "Како што можеме да видиме повеќе од пола записи во нашето множество имаат иста вредност за капацитет на батерија, па овие missing values ќе ги пополниме со модата"
   ]
  },
  {
   "cell_type": "code",
   "execution_count": 7,
   "id": "complete-institution",
   "metadata": {},
   "outputs": [
    {
     "data": {
      "image/png": "[encoded data removed]",
      "text/plain": [
       "<Figure size 432x288 with 1 Axes>"
      ]
     },
     "metadata": {
      "needs_background": "light"
     },
     "output_type": "display_data"
    }
   ],
   "source": [
    "height_series = data[data['Height']==data['Height']]['Height']\n",
    "plt.hist(height_series)\n",
    "plt.show()"
   ]
  },
  {
   "cell_type": "code",
   "execution_count": 8,
   "id": "spiritual-messaging",
   "metadata": {},
   "outputs": [],
   "source": [
    "data['Height'].fillna(data['Height'].mode()[0], inplace=True)"
   ]
  },
  {
   "cell_type": "code",
   "execution_count": 9,
   "id": "adequate-rhythm",
   "metadata": {},
   "outputs": [
    {
     "data": {
      "image/png": "[encoded data removed]",
      "text/plain": [
       "<Figure size 432x288 with 1 Axes>"
      ]
     },
     "metadata": {
      "needs_background": "light"
     },
     "output_type": "display_data"
    }
   ],
   "source": [
    "weight_series = data[data['Weight']==data['Weight']]['Weight']\n",
    "plt.hist(weight_series)\n",
    "plt.show()"
   ]
  },
  {
   "cell_type": "code",
   "execution_count": 10,
   "id": "external-terrorist",
   "metadata": {},
   "outputs": [],
   "source": [
    "data['Weight'].fillna(data['Weight'].mode()[0], inplace=True)"
   ]
  },
  {
   "cell_type": "code",
   "execution_count": 11,
   "id": "bound-reply",
   "metadata": {},
   "outputs": [
    {
     "data": {
      "image/png": "[encoded data removed]",
      "text/plain": [
       "<Figure size 432x288 with 1 Axes>"
      ]
     },
     "metadata": {
      "needs_background": "light"
     },
     "output_type": "display_data"
    }
   ],
   "source": [
    "width_series = data[data['Width']==data['Width']]['Width']\n",
    "plt.hist(width_series)\n",
    "plt.show()"
   ]
  },
  {
   "cell_type": "code",
   "execution_count": 12,
   "id": "social-neutral",
   "metadata": {},
   "outputs": [],
   "source": [
    "data['Width'].fillna(data['Width'].mode()[0], inplace=True)"
   ]
  },
  {
   "cell_type": "markdown",
   "id": "gothic-nigeria",
   "metadata": {},
   "source": [
    "Слично како и капацитетот на батерија, така и преостанатите нумерички вредности (висина, ширина и тежина) ќе ги пополниме со модата"
   ]
  },
  {
   "cell_type": "code",
   "execution_count": 13,
   "id": "super-study",
   "metadata": {},
   "outputs": [
    {
     "name": "stdout",
     "output_type": "stream",
     "text": [
      "microUSB       172\n",
      "USB-C          152\n",
      "Proprietary     29\n",
      "Name: Usb Type, dtype: int64\n"
     ]
    }
   ],
   "source": [
    "print(data[data[\"Usb Type\"]==data[\"Usb Type\"]][\"Usb Type\"].value_counts())"
   ]
  },
  {
   "cell_type": "code",
   "execution_count": 14,
   "id": "continued-trace",
   "metadata": {},
   "outputs": [
    {
     "name": "stdout",
     "output_type": "stream",
     "text": [
      "Apple       19\n",
      "Micromax     3\n",
      "Motorola     2\n",
      "Xiaomi       1\n",
      "Name: Brand, dtype: int64\n"
     ]
    }
   ],
   "source": [
    "print(data[data[\"Usb Type\"]!=data[\"Usb Type\"]][\"Brand\"].value_counts())"
   ]
  },
  {
   "cell_type": "code",
   "execution_count": 15,
   "id": "involved-connectivity",
   "metadata": {},
   "outputs": [
    {
     "name": "stdout",
     "output_type": "stream",
     "text": [
      "Proprietary    29\n",
      "USB-C           1\n",
      "Name: Usb Type, dtype: int64\n",
      "microUSB    2\n",
      "Name: Usb Type, dtype: int64\n",
      "373    NaN\n",
      "374    NaN\n",
      "Name: Usb Type, dtype: object\n",
      "USB-C       50\n",
      "microUSB    33\n",
      "Name: Usb Type, dtype: int64\n"
     ]
    }
   ],
   "source": [
    "print(data[data['Brand']==\"Apple\"][\"Usb Type\"].value_counts())\n",
    "print(data[data['Brand']==\"Micromax\"][\"Usb Type\"].value_counts())\n",
    "print(data[data['Brand']==\"Motorola\"][\"Usb Type\"])\n",
    "# немаме информации за ниту еден моторола телефон со позната usb порта па ќе замениме со најчестатa\n",
    "print(data[data['Brand']==\"Xiaomi\"][\"Usb Type\"].value_counts())"
   ]
  },
  {
   "cell_type": "code",
   "execution_count": 16,
   "id": "inside-clearing",
   "metadata": {},
   "outputs": [],
   "source": [
    "brand_usb_d = {\"Apple\":\"Proprietary\",\"Micromax\":\"microUSB\",\"Motorola\":\"microUSB\", \"Xiaomi\":\"USB-C\",\"Realme\":\"microUSB\"}"
   ]
  },
  {
   "cell_type": "code",
   "execution_count": 17,
   "id": "designing-tactics",
   "metadata": {},
   "outputs": [],
   "source": [
    "for index, row in data.iterrows():\n",
    "    if row['Usb Type'] != row['Usb Type']:\n",
    "        data.loc[index,'Usb Type']=brand_usb_d[row['Brand']]"
   ]
  },
  {
   "cell_type": "markdown",
   "id": "european-saturn",
   "metadata": {},
   "source": [
    "За USBто наместо да ја разгледаме само дистрибуцијата на вредностите на овој атрибут, ние користејќи претхосно познавање знаеме дека USB портата зависи од произведувачот, па поради тоа вредностите ги пополнивме со најчестата USB вредност на телефонит кои се произведени од истиот произведувач"
   ]
  },
  {
   "cell_type": "markdown",
   "id": "driven-report",
   "metadata": {},
   "source": [
    "### Кодирање на категориски атрибути"
   ]
  },
  {
   "cell_type": "markdown",
   "id": "applicable-means",
   "metadata": {},
   "source": [
    "1) Boolean категориски атрибути"
   ]
  },
  {
   "cell_type": "code",
   "execution_count": 18,
   "id": "dressed-style",
   "metadata": {},
   "outputs": [],
   "source": [
    "data['Touchscreen'] = pd.Series(np.where(data['Touchscreen'] == 'Yes', 1, 0),data.index)\n",
    "data['Headphones'] = pd.Series(np.where(data['Headphones'] == 'Yes', 1, 0),data.index)\n",
    "data['Face unlock'] = pd.Series(np.where(data['Face unlock'] == 'Yes', 1, 0),data.index)\n",
    "data['Fingerprint sensor'] = pd.Series(np.where(data['Fingerprint sensor'] == 'Yes', 1, 0),data.index)\n",
    "data['Wireless charging'] = pd.Series(np.where(data['Wireless charging'] == 'Yes', 1, 0),data.index)\n",
    "data['NFC'] = pd.Series(np.where(data['NFC'] == 'Yes', 1, 0),data.index)\n",
    "data['4G/ LTE'] = pd.Series(np.where(data['4G/ LTE'] == 'Yes', 1, 0),data.index)\n",
    "data['3G'] = pd.Series(np.where(data['3G'] == 'Yes', 1, 0),data.index)\n",
    "data['EDGE'] = pd.Series(np.where(data['EDGE'] == 'Yes', 1, 0),data.index)\n",
    "data['VoLTE'] = pd.Series(np.where(data['VoLTE'] == 'Yes', 1, 0),data.index)\n",
    "data['GPRS'] = pd.Series(np.where(data['GPRS'] == 'Yes', 1, 0),data.index)\n",
    "data['Bluetooth'] = pd.Series(np.where(data['Bluetooth'] == 'Yes', 1, 0),data.index)\n",
    "data['GPS'] = pd.Series(np.where(data['GPS'] == 'Yes', 1, 0),data.index)\n",
    "data['FM Radio'] = pd.Series(np.where(data['FM Radio'] == 'Yes', 1, 0),data.index)\n",
    "data['Fast Charging'] = pd.Series(np.where(data['Fast Charging'] == 'Yes', 1, 0),data.index)\n",
    "data['Removable Battery'] = pd.Series(np.where(data['Removable Battery'] == 'Yes', 1, 0),data.index)\n",
    "data['Card Slot'] = pd.Series(np.where(data['Card Slot'] == 'Yes', 1, 0),data.index)\n",
    "data['5G'] = pd.Series(np.where(data['5G'] == 'Yes', 1, 0),data.index)\n",
    "data['Wi-Fi'] = pd.Series(np.where(data['Wi-Fi'] == 'Yes', 1, 0),data.index)"
   ]
  },
  {
   "cell_type": "markdown",
   "id": "dutch-maldives",
   "metadata": {},
   "source": [
    "2) Категорични атрибути со повеќе вредности "
   ]
  },
  {
   "cell_type": "code",
   "execution_count": 19,
   "id": "lined-aggregate",
   "metadata": {},
   "outputs": [],
   "source": [
    "data['Expandable storage'] = data['Expandable storage'].astype(int)\n",
    "data[\"SIM Type\"] = data[\"SIM Type\"].astype('category')\n",
    "data[\"OS\"] = data[\"OS\"].astype('category')\n",
    "data[\"cpuCores\"] = data[\"cpuCores\"].astype('category')\n",
    "data[\"Chipset\"] = data[\"Chipset\"].astype('category')\n",
    "data[\"Flash\"] = data[\"Flash\"].astype('category')\n",
    "data[\"Launched_Month\"] = data[\"Launched_Month\"].astype('category')\n",
    "data[\"Launched_Year\"] = data[\"Launched_Year\"].astype('category')\n",
    "data[\"Usb Type\"] = data[\"Usb Type\"].astype('category')"
   ]
  },
  {
   "cell_type": "code",
   "execution_count": 20,
   "id": "extraordinary-authority",
   "metadata": {},
   "outputs": [],
   "source": [
    "data[\"SIM Type\"] = data[\"SIM Type\"].cat.codes\n",
    "data[\"OS\"] = data[\"OS\"].cat.codes\n",
    "data[\"cpuCores\"] = data[\"cpuCores\"].cat.codes\n",
    "data[\"Chipset\"] = data[\"Chipset\"].cat.codes\n",
    "data[\"Flash\"] = data[\"Flash\"].cat.codes\n",
    "data[\"Launched_Month\"] = data[\"Launched_Month\"].cat.codes\n",
    "data[\"Launched_Year\"] = data[\"Launched_Year\"].cat.codes\n",
    "data[\"Usb Type\"] = data[\"Usb Type\"].cat.codes"
   ]
  },
  {
   "cell_type": "markdown",
   "id": "secret-switch",
   "metadata": {},
   "source": [
    "3) One-hot encoding на атрибутот Brand "
   ]
  },
  {
   "cell_type": "markdown",
   "id": "latest-progressive",
   "metadata": {},
   "source": [
    "Поради тоа што истото множество ќе се користи во повеќе регресиони и клсификациони проблеми освен one-hot енкодирање оставаме атрибут кој е само едноставно кодиран (\"Manufacturer\")"
   ]
  },
  {
   "cell_type": "code",
   "execution_count": 21,
   "id": "american-danger",
   "metadata": {},
   "outputs": [],
   "source": [
    "data[\"Manufacturer\"]=data[\"Brand\"]\n",
    "data[\"Manufacturer\"] = data[\"Manufacturer\"].astype('category')\n",
    "data[\"Manufacturer\"] = data[\"Manufacturer\"].cat.codes\n",
    "data = pd.get_dummies(data, columns=[\"Brand\"], prefix=[\"Brand_\"])"
   ]
  },
  {
   "cell_type": "code",
   "execution_count": 22,
   "id": "nominated-asthma",
   "metadata": {},
   "outputs": [
    {
     "data": {
      "text/html": [
       "<div>\n",
       "<style scoped>\n",
       "    .dataframe tbody tr th:only-of-type {\n",
       "        vertical-align: middle;\n",
       "    }\n",
       "\n",
       "    .dataframe tbody tr th {\n",
       "        vertical-align: top;\n",
       "    }\n",
       "\n",
       "    .dataframe thead th {\n",
       "        text-align: right;\n",
       "    }\n",
       "</style>\n",
       "<table border=\"1\" class=\"dataframe\">\n",
       "  <thead>\n",
       "    <tr style=\"text-align: right;\">\n",
       "      <th></th>\n",
       "      <th>Battery capacity</th>\n",
       "      <th>Screen Size</th>\n",
       "      <th>Touchscreen</th>\n",
       "      <th>Internal storage</th>\n",
       "      <th>Headphones</th>\n",
       "      <th>Face unlock</th>\n",
       "      <th>Fingerprint sensor</th>\n",
       "      <th>Wireless charging</th>\n",
       "      <th>NFC</th>\n",
       "      <th>Number of SIMs</th>\n",
       "      <th>...</th>\n",
       "      <th>Brand__Micromax</th>\n",
       "      <th>Brand__Motorola</th>\n",
       "      <th>Brand__Nokia</th>\n",
       "      <th>Brand__OnePlus</th>\n",
       "      <th>Brand__Oppo</th>\n",
       "      <th>Brand__Realme</th>\n",
       "      <th>Brand__Samsung</th>\n",
       "      <th>Brand__Tecno</th>\n",
       "      <th>Brand__Vivo</th>\n",
       "      <th>Brand__Xiaomi</th>\n",
       "    </tr>\n",
       "  </thead>\n",
       "  <tbody>\n",
       "    <tr>\n",
       "      <th>0</th>\n",
       "      <td>4000</td>\n",
       "      <td>6.53</td>\n",
       "      <td>1</td>\n",
       "      <td>128</td>\n",
       "      <td>1</td>\n",
       "      <td>1</td>\n",
       "      <td>1</td>\n",
       "      <td>0</td>\n",
       "      <td>0</td>\n",
       "      <td>2.0</td>\n",
       "      <td>...</td>\n",
       "      <td>0</td>\n",
       "      <td>0</td>\n",
       "      <td>0</td>\n",
       "      <td>0</td>\n",
       "      <td>1</td>\n",
       "      <td>0</td>\n",
       "      <td>0</td>\n",
       "      <td>0</td>\n",
       "      <td>0</td>\n",
       "      <td>0</td>\n",
       "    </tr>\n",
       "    <tr>\n",
       "      <th>1</th>\n",
       "      <td>1960</td>\n",
       "      <td>4.70</td>\n",
       "      <td>1</td>\n",
       "      <td>32</td>\n",
       "      <td>1</td>\n",
       "      <td>0</td>\n",
       "      <td>1</td>\n",
       "      <td>0</td>\n",
       "      <td>1</td>\n",
       "      <td>1.0</td>\n",
       "      <td>...</td>\n",
       "      <td>0</td>\n",
       "      <td>0</td>\n",
       "      <td>0</td>\n",
       "      <td>0</td>\n",
       "      <td>0</td>\n",
       "      <td>0</td>\n",
       "      <td>0</td>\n",
       "      <td>0</td>\n",
       "      <td>0</td>\n",
       "      <td>0</td>\n",
       "    </tr>\n",
       "    <tr>\n",
       "      <th>2</th>\n",
       "      <td>1960</td>\n",
       "      <td>4.70</td>\n",
       "      <td>1</td>\n",
       "      <td>32</td>\n",
       "      <td>1</td>\n",
       "      <td>0</td>\n",
       "      <td>1</td>\n",
       "      <td>0</td>\n",
       "      <td>1</td>\n",
       "      <td>1.0</td>\n",
       "      <td>...</td>\n",
       "      <td>0</td>\n",
       "      <td>0</td>\n",
       "      <td>0</td>\n",
       "      <td>0</td>\n",
       "      <td>0</td>\n",
       "      <td>0</td>\n",
       "      <td>0</td>\n",
       "      <td>0</td>\n",
       "      <td>0</td>\n",
       "      <td>0</td>\n",
       "    </tr>\n",
       "    <tr>\n",
       "      <th>3</th>\n",
       "      <td>1715</td>\n",
       "      <td>4.70</td>\n",
       "      <td>1</td>\n",
       "      <td>16</td>\n",
       "      <td>1</td>\n",
       "      <td>0</td>\n",
       "      <td>1</td>\n",
       "      <td>0</td>\n",
       "      <td>1</td>\n",
       "      <td>1.0</td>\n",
       "      <td>...</td>\n",
       "      <td>0</td>\n",
       "      <td>0</td>\n",
       "      <td>0</td>\n",
       "      <td>0</td>\n",
       "      <td>0</td>\n",
       "      <td>0</td>\n",
       "      <td>0</td>\n",
       "      <td>0</td>\n",
       "      <td>0</td>\n",
       "      <td>0</td>\n",
       "    </tr>\n",
       "    <tr>\n",
       "      <th>4</th>\n",
       "      <td>1715</td>\n",
       "      <td>4.70</td>\n",
       "      <td>1</td>\n",
       "      <td>16</td>\n",
       "      <td>1</td>\n",
       "      <td>0</td>\n",
       "      <td>1</td>\n",
       "      <td>0</td>\n",
       "      <td>1</td>\n",
       "      <td>1.0</td>\n",
       "      <td>...</td>\n",
       "      <td>0</td>\n",
       "      <td>0</td>\n",
       "      <td>0</td>\n",
       "      <td>0</td>\n",
       "      <td>0</td>\n",
       "      <td>0</td>\n",
       "      <td>0</td>\n",
       "      <td>0</td>\n",
       "      <td>0</td>\n",
       "      <td>0</td>\n",
       "    </tr>\n",
       "  </tbody>\n",
       "</table>\n",
       "<p>5 rows × 72 columns</p>\n",
       "</div>"
      ],
      "text/plain": [
       "   Battery capacity  Screen Size  Touchscreen  Internal storage  Headphones  \\\n",
       "0              4000         6.53            1               128           1   \n",
       "1              1960         4.70            1                32           1   \n",
       "2              1960         4.70            1                32           1   \n",
       "3              1715         4.70            1                16           1   \n",
       "4              1715         4.70            1                16           1   \n",
       "\n",
       "   Face unlock  Fingerprint sensor  Wireless charging  NFC  Number of SIMs  \\\n",
       "0            1                   1                  0    0             2.0   \n",
       "1            0                   1                  0    1             1.0   \n",
       "2            0                   1                  0    1             1.0   \n",
       "3            0                   1                  0    1             1.0   \n",
       "4            0                   1                  0    1             1.0   \n",
       "\n",
       "   ...  Brand__Micromax  Brand__Motorola  Brand__Nokia  Brand__OnePlus  \\\n",
       "0  ...                0                0             0               0   \n",
       "1  ...                0                0             0               0   \n",
       "2  ...                0                0             0               0   \n",
       "3  ...                0                0             0               0   \n",
       "4  ...                0                0             0               0   \n",
       "\n",
       "   Brand__Oppo  Brand__Realme  Brand__Samsung  Brand__Tecno  Brand__Vivo  \\\n",
       "0            1              0               0             0            0   \n",
       "1            0              0               0             0            0   \n",
       "2            0              0               0             0            0   \n",
       "3            0              0               0             0            0   \n",
       "4            0              0               0             0            0   \n",
       "\n",
       "   Brand__Xiaomi  \n",
       "0              0  \n",
       "1              0  \n",
       "2              0  \n",
       "3              0  \n",
       "4              0  \n",
       "\n",
       "[5 rows x 72 columns]"
      ]
     },
     "execution_count": 22,
     "metadata": {},
     "output_type": "execute_result"
    }
   ],
   "source": [
    "data.head()"
   ]
  },
  {
   "cell_type": "markdown",
   "id": "going-welcome",
   "metadata": {},
   "source": [
    "### Трансформација на атрибут "
   ]
  },
  {
   "cell_type": "code",
   "execution_count": 23,
   "id": "suffering-treasury",
   "metadata": {},
   "outputs": [
    {
     "data": {
      "image/png": "[encoded data removed]",
      "text/plain": [
       "<Figure size 432x288 with 1 Axes>"
      ]
     },
     "metadata": {
      "needs_background": "light"
     },
     "output_type": "display_data"
    }
   ],
   "source": [
    "data['Price'].hist()\n",
    "plt.show()"
   ]
  },
  {
   "cell_type": "markdown",
   "id": "eligible-member",
   "metadata": {},
   "source": [
    "За подобрување на перформансите на регресионите модели направени во однос на ова множество додаваме и атрибут кој претставува логаритамска трансформација на атрибутот цена"
   ]
  },
  {
   "cell_type": "code",
   "execution_count": 24,
   "id": "parliamentary-england",
   "metadata": {},
   "outputs": [],
   "source": [
    "data['logPrice'] = np.log(data['Price'])"
   ]
  },
  {
   "cell_type": "code",
   "execution_count": 25,
   "id": "endless-mercy",
   "metadata": {},
   "outputs": [
    {
     "data": {
      "image/png": "[encoded data removed]",
      "text/plain": [
       "<Figure size 432x288 with 1 Axes>"
      ]
     },
     "metadata": {
      "needs_background": "light"
     },
     "output_type": "display_data"
    }
   ],
   "source": [
    "data['logPrice'].hist()\n",
    "plt.show()"
   ]
  },
  {
   "cell_type": "code",
   "execution_count": 26,
   "id": "stylish-tribune",
   "metadata": {},
   "outputs": [
    {
     "data": {
      "text/html": [
       "<div>\n",
       "<style scoped>\n",
       "    .dataframe tbody tr th:only-of-type {\n",
       "        vertical-align: middle;\n",
       "    }\n",
       "\n",
       "    .dataframe tbody tr th {\n",
       "        vertical-align: top;\n",
       "    }\n",
       "\n",
       "    .dataframe thead th {\n",
       "        text-align: right;\n",
       "    }\n",
       "</style>\n",
       "<table border=\"1\" class=\"dataframe\">\n",
       "  <thead>\n",
       "    <tr style=\"text-align: right;\">\n",
       "      <th></th>\n",
       "      <th>Battery capacity</th>\n",
       "      <th>Screen Size</th>\n",
       "      <th>Touchscreen</th>\n",
       "      <th>Internal storage</th>\n",
       "      <th>Headphones</th>\n",
       "      <th>Face unlock</th>\n",
       "      <th>Fingerprint sensor</th>\n",
       "      <th>Wireless charging</th>\n",
       "      <th>NFC</th>\n",
       "      <th>Number of SIMs</th>\n",
       "      <th>...</th>\n",
       "      <th>Brand__Motorola</th>\n",
       "      <th>Brand__Nokia</th>\n",
       "      <th>Brand__OnePlus</th>\n",
       "      <th>Brand__Oppo</th>\n",
       "      <th>Brand__Realme</th>\n",
       "      <th>Brand__Samsung</th>\n",
       "      <th>Brand__Tecno</th>\n",
       "      <th>Brand__Vivo</th>\n",
       "      <th>Brand__Xiaomi</th>\n",
       "      <th>logPrice</th>\n",
       "    </tr>\n",
       "  </thead>\n",
       "  <tbody>\n",
       "    <tr>\n",
       "      <th>0</th>\n",
       "      <td>4000</td>\n",
       "      <td>6.53</td>\n",
       "      <td>1</td>\n",
       "      <td>128</td>\n",
       "      <td>1</td>\n",
       "      <td>1</td>\n",
       "      <td>1</td>\n",
       "      <td>0</td>\n",
       "      <td>0</td>\n",
       "      <td>2.0</td>\n",
       "      <td>...</td>\n",
       "      <td>0</td>\n",
       "      <td>0</td>\n",
       "      <td>0</td>\n",
       "      <td>1</td>\n",
       "      <td>0</td>\n",
       "      <td>0</td>\n",
       "      <td>0</td>\n",
       "      <td>0</td>\n",
       "      <td>0</td>\n",
       "      <td>10.085392</td>\n",
       "    </tr>\n",
       "    <tr>\n",
       "      <th>1</th>\n",
       "      <td>1960</td>\n",
       "      <td>4.70</td>\n",
       "      <td>1</td>\n",
       "      <td>32</td>\n",
       "      <td>1</td>\n",
       "      <td>0</td>\n",
       "      <td>1</td>\n",
       "      <td>0</td>\n",
       "      <td>1</td>\n",
       "      <td>1.0</td>\n",
       "      <td>...</td>\n",
       "      <td>0</td>\n",
       "      <td>0</td>\n",
       "      <td>0</td>\n",
       "      <td>0</td>\n",
       "      <td>0</td>\n",
       "      <td>0</td>\n",
       "      <td>0</td>\n",
       "      <td>0</td>\n",
       "      <td>0</td>\n",
       "      <td>10.221905</td>\n",
       "    </tr>\n",
       "    <tr>\n",
       "      <th>2</th>\n",
       "      <td>1960</td>\n",
       "      <td>4.70</td>\n",
       "      <td>1</td>\n",
       "      <td>32</td>\n",
       "      <td>1</td>\n",
       "      <td>0</td>\n",
       "      <td>1</td>\n",
       "      <td>0</td>\n",
       "      <td>1</td>\n",
       "      <td>1.0</td>\n",
       "      <td>...</td>\n",
       "      <td>0</td>\n",
       "      <td>0</td>\n",
       "      <td>0</td>\n",
       "      <td>0</td>\n",
       "      <td>0</td>\n",
       "      <td>0</td>\n",
       "      <td>0</td>\n",
       "      <td>0</td>\n",
       "      <td>0</td>\n",
       "      <td>9.897972</td>\n",
       "    </tr>\n",
       "    <tr>\n",
       "      <th>3</th>\n",
       "      <td>1715</td>\n",
       "      <td>4.70</td>\n",
       "      <td>1</td>\n",
       "      <td>16</td>\n",
       "      <td>1</td>\n",
       "      <td>0</td>\n",
       "      <td>1</td>\n",
       "      <td>0</td>\n",
       "      <td>1</td>\n",
       "      <td>1.0</td>\n",
       "      <td>...</td>\n",
       "      <td>0</td>\n",
       "      <td>0</td>\n",
       "      <td>0</td>\n",
       "      <td>0</td>\n",
       "      <td>0</td>\n",
       "      <td>0</td>\n",
       "      <td>0</td>\n",
       "      <td>0</td>\n",
       "      <td>0</td>\n",
       "      <td>10.645401</td>\n",
       "    </tr>\n",
       "    <tr>\n",
       "      <th>4</th>\n",
       "      <td>1715</td>\n",
       "      <td>4.70</td>\n",
       "      <td>1</td>\n",
       "      <td>16</td>\n",
       "      <td>1</td>\n",
       "      <td>0</td>\n",
       "      <td>1</td>\n",
       "      <td>0</td>\n",
       "      <td>1</td>\n",
       "      <td>1.0</td>\n",
       "      <td>...</td>\n",
       "      <td>0</td>\n",
       "      <td>0</td>\n",
       "      <td>0</td>\n",
       "      <td>0</td>\n",
       "      <td>0</td>\n",
       "      <td>0</td>\n",
       "      <td>0</td>\n",
       "      <td>0</td>\n",
       "      <td>0</td>\n",
       "      <td>10.064671</td>\n",
       "    </tr>\n",
       "  </tbody>\n",
       "</table>\n",
       "<p>5 rows × 73 columns</p>\n",
       "</div>"
      ],
      "text/plain": [
       "   Battery capacity  Screen Size  Touchscreen  Internal storage  Headphones  \\\n",
       "0              4000         6.53            1               128           1   \n",
       "1              1960         4.70            1                32           1   \n",
       "2              1960         4.70            1                32           1   \n",
       "3              1715         4.70            1                16           1   \n",
       "4              1715         4.70            1                16           1   \n",
       "\n",
       "   Face unlock  Fingerprint sensor  Wireless charging  NFC  Number of SIMs  \\\n",
       "0            1                   1                  0    0             2.0   \n",
       "1            0                   1                  0    1             1.0   \n",
       "2            0                   1                  0    1             1.0   \n",
       "3            0                   1                  0    1             1.0   \n",
       "4            0                   1                  0    1             1.0   \n",
       "\n",
       "   ...  Brand__Motorola  Brand__Nokia  Brand__OnePlus  Brand__Oppo  \\\n",
       "0  ...                0             0               0            1   \n",
       "1  ...                0             0               0            0   \n",
       "2  ...                0             0               0            0   \n",
       "3  ...                0             0               0            0   \n",
       "4  ...                0             0               0            0   \n",
       "\n",
       "   Brand__Realme  Brand__Samsung  Brand__Tecno  Brand__Vivo  Brand__Xiaomi  \\\n",
       "0              0               0             0            0              0   \n",
       "1              0               0             0            0              0   \n",
       "2              0               0             0            0              0   \n",
       "3              0               0             0            0              0   \n",
       "4              0               0             0            0              0   \n",
       "\n",
       "    logPrice  \n",
       "0  10.085392  \n",
       "1  10.221905  \n",
       "2   9.897972  \n",
       "3  10.645401  \n",
       "4  10.064671  \n",
       "\n",
       "[5 rows x 73 columns]"
      ]
     },
     "execution_count": 26,
     "metadata": {},
     "output_type": "execute_result"
    }
   ],
   "source": [
    "data.head()"
   ]
  },
  {
   "cell_type": "code",
   "execution_count": 27,
   "id": "japanese-giant",
   "metadata": {},
   "outputs": [],
   "source": [
    "data.to_csv(\"../data/data.csv\")"
   ]
  }
 ],
 "metadata": {
  "kernelspec": {
   "display_name": "Python 3",
   "language": "python",
   "name": "python3"
  },
  "language_info": {
   "codemirror_mode": {
    "name": "ipython",
    "version": 3
   },
   "file_extension": ".py",
   "mimetype": "text/x-python",
   "name": "python",
   "nbconvert_exporter": "python",
   "pygments_lexer": "ipython3",
   "version": "3.6.12"
  }
 },
 "nbformat": 4,
 "nbformat_minor": 5
}
