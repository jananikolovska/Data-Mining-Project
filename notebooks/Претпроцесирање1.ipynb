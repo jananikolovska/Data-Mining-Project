{
 "cells": [
  {
   "cell_type": "markdown",
   "metadata": {},
   "source": [
    "# Интегрирање на 2 податочни множества"
   ]
  },
  {
   "cell_type": "markdown",
   "metadata": {},
   "source": [
    "Запознавање на двете множества, нивно интегрирање и агрегација на атрибутите"
   ]
  },
  {
   "cell_type": "code",
   "execution_count": 1,
   "metadata": {},
   "outputs": [],
   "source": [
    "import pandas as pd\n",
    "import math"
   ]
  },
  {
   "cell_type": "code",
   "execution_count": 2,
   "metadata": {
    "scrolled": true
   },
   "outputs": [
    {
     "name": "stdout",
     "output_type": "stream",
     "text": [
      "Dataset 1 - Number of records = 913\n",
      "Dataset 1 - Number of features = 75\n"
     ]
    },
    {
     "data": {
      "text/html": [
       "<div>\n",
       "<style scoped>\n",
       "    .dataframe tbody tr th:only-of-type {\n",
       "        vertical-align: middle;\n",
       "    }\n",
       "\n",
       "    .dataframe tbody tr th {\n",
       "        vertical-align: top;\n",
       "    }\n",
       "\n",
       "    .dataframe thead th {\n",
       "        text-align: right;\n",
       "    }\n",
       "</style>\n",
       "<table border=\"1\" class=\"dataframe\">\n",
       "  <thead>\n",
       "    <tr style=\"text-align: right;\">\n",
       "      <th></th>\n",
       "      <th>Brand</th>\n",
       "      <th>Model</th>\n",
       "      <th>Launched</th>\n",
       "      <th>Launched in India</th>\n",
       "      <th>Form factor</th>\n",
       "      <th>Dimensions (mm)</th>\n",
       "      <th>Battery capacity (mAh)</th>\n",
       "      <th>Fast charging</th>\n",
       "      <th>Colours</th>\n",
       "      <th>Screen size (inches)</th>\n",
       "      <th>...</th>\n",
       "      <th>Barometer</th>\n",
       "      <th>Temperature sensor</th>\n",
       "      <th>Body type</th>\n",
       "      <th>Thickness</th>\n",
       "      <th>IP rating</th>\n",
       "      <th>3D face recognition</th>\n",
       "      <th>SAR value</th>\n",
       "      <th>Alternate names</th>\n",
       "      <th>Height</th>\n",
       "      <th>Rear third camera attr</th>\n",
       "    </tr>\n",
       "  </thead>\n",
       "  <tbody>\n",
       "    <tr>\n",
       "      <th>0</th>\n",
       "      <td>Oppo</td>\n",
       "      <td>Reno 2F</td>\n",
       "      <td>29th August 2019</td>\n",
       "      <td>Yes</td>\n",
       "      <td>Touchscreen</td>\n",
       "      <td>161.80 x 75.80 x 8.67</td>\n",
       "      <td>4000</td>\n",
       "      <td>VOOC</td>\n",
       "      <td>Sky White, Lake Green</td>\n",
       "      <td>6.53</td>\n",
       "      <td>...</td>\n",
       "      <td>NaN</td>\n",
       "      <td>NaN</td>\n",
       "      <td>NaN</td>\n",
       "      <td>NaN</td>\n",
       "      <td>NaN</td>\n",
       "      <td>NaN</td>\n",
       "      <td>NaN</td>\n",
       "      <td>NaN</td>\n",
       "      <td>NaN</td>\n",
       "      <td>NaN</td>\n",
       "    </tr>\n",
       "    <tr>\n",
       "      <th>1</th>\n",
       "      <td>OnePlus</td>\n",
       "      <td>Nord</td>\n",
       "      <td>21st July 2020</td>\n",
       "      <td>Yes</td>\n",
       "      <td>Touchscreen</td>\n",
       "      <td>158.30 x 73.30 x 8.20</td>\n",
       "      <td>4115</td>\n",
       "      <td>Proprietary</td>\n",
       "      <td>Blue Marble, Gray Onyx</td>\n",
       "      <td>6.44</td>\n",
       "      <td>...</td>\n",
       "      <td>NaN</td>\n",
       "      <td>NaN</td>\n",
       "      <td>NaN</td>\n",
       "      <td>NaN</td>\n",
       "      <td>NaN</td>\n",
       "      <td>NaN</td>\n",
       "      <td>NaN</td>\n",
       "      <td>NaN</td>\n",
       "      <td>NaN</td>\n",
       "      <td>NaN</td>\n",
       "    </tr>\n",
       "    <tr>\n",
       "      <th>2</th>\n",
       "      <td>Itel</td>\n",
       "      <td>Vision 1</td>\n",
       "      <td>17th February 2020</td>\n",
       "      <td>Yes</td>\n",
       "      <td>Touchscreen</td>\n",
       "      <td>155.30 x 73.50 x 8.50</td>\n",
       "      <td>4000</td>\n",
       "      <td>NaN</td>\n",
       "      <td>Gradation Blue, Gradation Purple</td>\n",
       "      <td>6.09</td>\n",
       "      <td>...</td>\n",
       "      <td>NaN</td>\n",
       "      <td>NaN</td>\n",
       "      <td>NaN</td>\n",
       "      <td>NaN</td>\n",
       "      <td>NaN</td>\n",
       "      <td>NaN</td>\n",
       "      <td>NaN</td>\n",
       "      <td>NaN</td>\n",
       "      <td>NaN</td>\n",
       "      <td>NaN</td>\n",
       "    </tr>\n",
       "    <tr>\n",
       "      <th>3</th>\n",
       "      <td>Apple</td>\n",
       "      <td>iPhone 7</td>\n",
       "      <td>September 2016</td>\n",
       "      <td>Yes</td>\n",
       "      <td>Touchscreen</td>\n",
       "      <td>138.30 x 67.10 x 7.10</td>\n",
       "      <td>1960</td>\n",
       "      <td>NaN</td>\n",
       "      <td>Black, Gold, Jet Black, Matte Black, Red, Rose...</td>\n",
       "      <td>4.70</td>\n",
       "      <td>...</td>\n",
       "      <td>Yes</td>\n",
       "      <td>No</td>\n",
       "      <td>NaN</td>\n",
       "      <td>NaN</td>\n",
       "      <td>NaN</td>\n",
       "      <td>NaN</td>\n",
       "      <td>NaN</td>\n",
       "      <td>NaN</td>\n",
       "      <td>NaN</td>\n",
       "      <td>NaN</td>\n",
       "    </tr>\n",
       "    <tr>\n",
       "      <th>4</th>\n",
       "      <td>Xiaomi</td>\n",
       "      <td>Redmi Note 9 Pro</td>\n",
       "      <td>12th March 2020</td>\n",
       "      <td>Yes</td>\n",
       "      <td>Touchscreen</td>\n",
       "      <td>165.70 x 76.60 x 8.80</td>\n",
       "      <td>5020</td>\n",
       "      <td>Proprietary</td>\n",
       "      <td>Aurora Blue, Champagne Gold, Glacier White, In...</td>\n",
       "      <td>6.67</td>\n",
       "      <td>...</td>\n",
       "      <td>NaN</td>\n",
       "      <td>NaN</td>\n",
       "      <td>NaN</td>\n",
       "      <td>NaN</td>\n",
       "      <td>NaN</td>\n",
       "      <td>NaN</td>\n",
       "      <td>NaN</td>\n",
       "      <td>NaN</td>\n",
       "      <td>NaN</td>\n",
       "      <td>NaN</td>\n",
       "    </tr>\n",
       "  </tbody>\n",
       "</table>\n",
       "<p>5 rows × 75 columns</p>\n",
       "</div>"
      ],
      "text/plain": [
       "     Brand             Model            Launched Launched in India  \\\n",
       "0     Oppo           Reno 2F    29th August 2019               Yes   \n",
       "1  OnePlus              Nord      21st July 2020               Yes   \n",
       "2     Itel          Vision 1  17th February 2020               Yes   \n",
       "3    Apple          iPhone 7      September 2016               Yes   \n",
       "4   Xiaomi  Redmi Note 9 Pro     12th March 2020               Yes   \n",
       "\n",
       "   Form factor        Dimensions (mm) Battery capacity (mAh) Fast charging  \\\n",
       "0  Touchscreen  161.80 x 75.80 x 8.67                   4000          VOOC   \n",
       "1  Touchscreen  158.30 x 73.30 x 8.20                   4115   Proprietary   \n",
       "2  Touchscreen  155.30 x 73.50 x 8.50                   4000           NaN   \n",
       "3  Touchscreen  138.30 x 67.10 x 7.10                   1960           NaN   \n",
       "4  Touchscreen  165.70 x 76.60 x 8.80                   5020   Proprietary   \n",
       "\n",
       "                                             Colours  Screen size (inches)  \\\n",
       "0                              Sky White, Lake Green                  6.53   \n",
       "1                             Blue Marble, Gray Onyx                  6.44   \n",
       "2                   Gradation Blue, Gradation Purple                  6.09   \n",
       "3  Black, Gold, Jet Black, Matte Black, Red, Rose...                  4.70   \n",
       "4  Aurora Blue, Champagne Gold, Glacier White, In...                  6.67   \n",
       "\n",
       "   ... Barometer Temperature sensor Body type Thickness IP rating  \\\n",
       "0  ...       NaN                NaN       NaN       NaN       NaN   \n",
       "1  ...       NaN                NaN       NaN       NaN       NaN   \n",
       "2  ...       NaN                NaN       NaN       NaN       NaN   \n",
       "3  ...       Yes                 No       NaN       NaN       NaN   \n",
       "4  ...       NaN                NaN       NaN       NaN       NaN   \n",
       "\n",
       "  3D face recognition SAR value Alternate names Height Rear third camera attr  \n",
       "0                 NaN       NaN             NaN    NaN                    NaN  \n",
       "1                 NaN       NaN             NaN    NaN                    NaN  \n",
       "2                 NaN       NaN             NaN    NaN                    NaN  \n",
       "3                 NaN       NaN             NaN    NaN                    NaN  \n",
       "4                 NaN       NaN             NaN    NaN                    NaN  \n",
       "\n",
       "[5 rows x 75 columns]"
      ]
     },
     "execution_count": 2,
     "metadata": {},
     "output_type": "execute_result"
    }
   ],
   "source": [
    "df1 = pd.read_json(\"../data/mobile_phones_india.json\")\n",
    "print(\"Dataset 1 - Number of records = \" + str(df1.shape[0]))\n",
    "print(\"Dataset 1 - Number of features = \" + str(df1.shape[1]))\n",
    "df1.head()"
   ]
  },
  {
   "cell_type": "code",
   "execution_count": 3,
   "metadata": {},
   "outputs": [
    {
     "name": "stdout",
     "output_type": "stream",
     "text": [
      "Column \t Number of Missing values\n"
     ]
    },
    {
     "data": {
      "text/plain": [
       "Brand                       0\n",
       "Model                       0\n",
       "Launched                   25\n",
       "Launched in India         490\n",
       "Form factor                47\n",
       "                         ... \n",
       "3D face recognition       883\n",
       "SAR value                 817\n",
       "Alternate names           870\n",
       "Height                    912\n",
       "Rear third camera attr    912\n",
       "Length: 75, dtype: int64"
      ]
     },
     "execution_count": 3,
     "metadata": {},
     "output_type": "execute_result"
    }
   ],
   "source": [
    "print(\"Column \\t Number of Missing values\")\n",
    "df1.isna().sum()"
   ]
  },
  {
   "cell_type": "markdown",
   "metadata": {},
   "source": [
    "Отстранување на колони кои имаат огромен број на вредности што недостигаат бидејќи не можеме да извлечеме никаква информација од нив"
   ]
  },
  {
   "cell_type": "code",
   "execution_count": 4,
   "metadata": {},
   "outputs": [
    {
     "name": "stdout",
     "output_type": "stream",
     "text": [
      "Dataset 1 - Updated number of features = 50\n"
     ]
    }
   ],
   "source": [
    "df1 = df1.drop([\"Aspect ratio\",\"Protection type\",\"Fast charging\",\"Dedicated microSD slot\",\"Micro-USB\",\"Wi-Fi Direct\",\"GSM/CDMA\",\"Pixels per inch (PPI)\",\"Infrared\",\"USB OTG\",\"Lightning\",\"FM\",\"Mobile High-Definition Link (MHL)\",\"Barometer\",\"Temperature sensor\",\"Body type\",\"Thickness\",\"IP rating\",\"3D face recognition\",\"SAR value\",\"Alternate names\",\"Height\",\"Colours\",\"Rear third camera attr\",\"Launched in India\"],axis=1)\n",
    "print(\"Dataset 1 - Updated number of features = \" + str(df1.shape[1]))"
   ]
  },
  {
   "cell_type": "code",
   "execution_count": 5,
   "metadata": {},
   "outputs": [
    {
     "name": "stdout",
     "output_type": "stream",
     "text": [
      "Dataset 2 - Number of records = 404\n",
      "Dataset 2 - Number of features = 66\n"
     ]
    },
    {
     "data": {
      "text/html": [
       "<div>\n",
       "<style scoped>\n",
       "    .dataframe tbody tr th:only-of-type {\n",
       "        vertical-align: middle;\n",
       "    }\n",
       "\n",
       "    .dataframe tbody tr th {\n",
       "        vertical-align: top;\n",
       "    }\n",
       "\n",
       "    .dataframe thead th {\n",
       "        text-align: right;\n",
       "    }\n",
       "</style>\n",
       "<table border=\"1\" class=\"dataframe\">\n",
       "  <thead>\n",
       "    <tr style=\"text-align: right;\">\n",
       "      <th></th>\n",
       "      <th>manufacturer</th>\n",
       "      <th>model</th>\n",
       "      <th>price</th>\n",
       "      <th>2G</th>\n",
       "      <th>3G</th>\n",
       "      <th>USB</th>\n",
       "      <th>EDGE</th>\n",
       "      <th>GPRS</th>\n",
       "      <th>Wifi</th>\n",
       "      <th>VoLTE</th>\n",
       "      <th>...</th>\n",
       "      <th>Dual Sim</th>\n",
       "      <th>Device Type</th>\n",
       "      <th>Release Date</th>\n",
       "      <th>Extra Features</th>\n",
       "      <th>Card Slot</th>\n",
       "      <th>Expandable Storage Upto</th>\n",
       "      <th>Video</th>\n",
       "      <th>Browser Supports</th>\n",
       "      <th>Music Playback Time</th>\n",
       "      <th>Wireless Charging</th>\n",
       "    </tr>\n",
       "  </thead>\n",
       "  <tbody>\n",
       "    <tr>\n",
       "      <th>0</th>\n",
       "      <td>Xiaomi</td>\n",
       "      <td>Mi Note 10 Pro</td>\n",
       "      <td>47,074</td>\n",
       "      <td>Yes</td>\n",
       "      <td>Yes</td>\n",
       "      <td>Yes</td>\n",
       "      <td>Yes</td>\n",
       "      <td>Yes</td>\n",
       "      <td>Yes</td>\n",
       "      <td>Yes</td>\n",
       "      <td>...</td>\n",
       "      <td>Dual Sim</td>\n",
       "      <td>Smartphone</td>\n",
       "      <td>November 6, 2019</td>\n",
       "      <td>NaN</td>\n",
       "      <td>NaN</td>\n",
       "      <td>NaN</td>\n",
       "      <td>NaN</td>\n",
       "      <td>NaN</td>\n",
       "      <td>NaN</td>\n",
       "      <td>NaN</td>\n",
       "    </tr>\n",
       "    <tr>\n",
       "      <th>1</th>\n",
       "      <td>iKall</td>\n",
       "      <td>K700</td>\n",
       "      <td>5,699</td>\n",
       "      <td>Yes</td>\n",
       "      <td>Yes</td>\n",
       "      <td>Yes</td>\n",
       "      <td>Yes</td>\n",
       "      <td>Yes</td>\n",
       "      <td>Yes</td>\n",
       "      <td>Yes</td>\n",
       "      <td>...</td>\n",
       "      <td>Dual Sim</td>\n",
       "      <td>Smartphone</td>\n",
       "      <td>NaN</td>\n",
       "      <td>NaN</td>\n",
       "      <td>NaN</td>\n",
       "      <td>NaN</td>\n",
       "      <td>NaN</td>\n",
       "      <td>NaN</td>\n",
       "      <td>NaN</td>\n",
       "      <td>NaN</td>\n",
       "    </tr>\n",
       "    <tr>\n",
       "      <th>2</th>\n",
       "      <td>Ssky</td>\n",
       "      <td>X2 Pro</td>\n",
       "      <td>5,199</td>\n",
       "      <td>Yes</td>\n",
       "      <td>Yes</td>\n",
       "      <td>Yes</td>\n",
       "      <td>Yes</td>\n",
       "      <td>Yes</td>\n",
       "      <td>Yes</td>\n",
       "      <td>Yes</td>\n",
       "      <td>...</td>\n",
       "      <td>Dual Sim</td>\n",
       "      <td>Smartphone</td>\n",
       "      <td>NaN</td>\n",
       "      <td>SOS Function</td>\n",
       "      <td>Yes</td>\n",
       "      <td>Upto 64GB</td>\n",
       "      <td>MP4, 3GP, HDV, AVI</td>\n",
       "      <td>NaN</td>\n",
       "      <td>NaN</td>\n",
       "      <td>NaN</td>\n",
       "    </tr>\n",
       "    <tr>\n",
       "      <th>3</th>\n",
       "      <td>Xiaomi</td>\n",
       "      <td>Redmi Note 8 Pro</td>\n",
       "      <td>15,999</td>\n",
       "      <td>Yes</td>\n",
       "      <td>Yes</td>\n",
       "      <td>Yes</td>\n",
       "      <td>Yes</td>\n",
       "      <td>Yes</td>\n",
       "      <td>Yes</td>\n",
       "      <td>Yes</td>\n",
       "      <td>...</td>\n",
       "      <td>Dual Sim</td>\n",
       "      <td>Smartphone</td>\n",
       "      <td>October 16, 2019</td>\n",
       "      <td>UFS2.1, Amazon Alexa Built-in</td>\n",
       "      <td>Yes</td>\n",
       "      <td>Upto 512GB</td>\n",
       "      <td>MP4, M4V, MKV, XVID</td>\n",
       "      <td>HTML5</td>\n",
       "      <td>NaN</td>\n",
       "      <td>NaN</td>\n",
       "    </tr>\n",
       "    <tr>\n",
       "      <th>4</th>\n",
       "      <td>Realme</td>\n",
       "      <td>X2 Pro</td>\n",
       "      <td>33,999</td>\n",
       "      <td>Yes</td>\n",
       "      <td>Yes</td>\n",
       "      <td>Yes</td>\n",
       "      <td>Yes</td>\n",
       "      <td>Yes</td>\n",
       "      <td>Yes</td>\n",
       "      <td>Yes</td>\n",
       "      <td>...</td>\n",
       "      <td>Dual Sim</td>\n",
       "      <td>Smartphone</td>\n",
       "      <td>November 20, 2019</td>\n",
       "      <td>UFS 3.0</td>\n",
       "      <td>No</td>\n",
       "      <td>NaN</td>\n",
       "      <td>MP4</td>\n",
       "      <td>HTML5</td>\n",
       "      <td>NaN</td>\n",
       "      <td>NaN</td>\n",
       "    </tr>\n",
       "  </tbody>\n",
       "</table>\n",
       "<p>5 rows × 66 columns</p>\n",
       "</div>"
      ],
      "text/plain": [
       "  manufacturer             model   price   2G   3G  USB EDGE GPRS Wifi VoLTE  \\\n",
       "0       Xiaomi    Mi Note 10 Pro  47,074  Yes  Yes  Yes  Yes  Yes  Yes   Yes   \n",
       "1        iKall              K700   5,699  Yes  Yes  Yes  Yes  Yes  Yes   Yes   \n",
       "2         Ssky            X2 Pro   5,199  Yes  Yes  Yes  Yes  Yes  Yes   Yes   \n",
       "3       Xiaomi  Redmi Note 8 Pro  15,999  Yes  Yes  Yes  Yes  Yes  Yes   Yes   \n",
       "4       Realme            X2 Pro  33,999  Yes  Yes  Yes  Yes  Yes  Yes   Yes   \n",
       "\n",
       "   ...  Dual Sim Device Type       Release Date  \\\n",
       "0  ...  Dual Sim  Smartphone   November 6, 2019   \n",
       "1  ...  Dual Sim  Smartphone                NaN   \n",
       "2  ...  Dual Sim  Smartphone                NaN   \n",
       "3  ...  Dual Sim  Smartphone   October 16, 2019   \n",
       "4  ...  Dual Sim  Smartphone  November 20, 2019   \n",
       "\n",
       "                  Extra Features Card Slot Expandable Storage Upto  \\\n",
       "0                            NaN       NaN                     NaN   \n",
       "1                            NaN       NaN                     NaN   \n",
       "2                   SOS Function       Yes               Upto 64GB   \n",
       "3  UFS2.1, Amazon Alexa Built-in       Yes              Upto 512GB   \n",
       "4                        UFS 3.0        No                     NaN   \n",
       "\n",
       "                 Video Browser Supports Music Playback Time Wireless Charging  \n",
       "0                  NaN              NaN                 NaN               NaN  \n",
       "1                  NaN              NaN                 NaN               NaN  \n",
       "2   MP4, 3GP, HDV, AVI              NaN                 NaN               NaN  \n",
       "3  MP4, M4V, MKV, XVID            HTML5                 NaN               NaN  \n",
       "4                  MP4            HTML5                 NaN               NaN  \n",
       "\n",
       "[5 rows x 66 columns]"
      ]
     },
     "execution_count": 5,
     "metadata": {},
     "output_type": "execute_result"
    }
   ],
   "source": [
    "df2 = pd.read_json(\"../data/first_post_mobiles.json\")\n",
    "print(\"Dataset 2 - Number of records = \" + str(df2.shape[0]))\n",
    "print(\"Dataset 2 - Number of features = \" + str(df2.shape[1]))\n",
    "df2.head()"
   ]
  },
  {
   "cell_type": "code",
   "execution_count": 6,
   "metadata": {},
   "outputs": [
    {
     "name": "stdout",
     "output_type": "stream",
     "text": [
      "Column \t Number of Missing values\n"
     ]
    },
    {
     "data": {
      "text/plain": [
       "manufacturer                 0\n",
       "model                        0\n",
       "price                        0\n",
       "2G                          39\n",
       "3G                           0\n",
       "                          ... \n",
       "Expandable Storage Upto    116\n",
       "Video                      179\n",
       "Browser Supports            43\n",
       "Music Playback Time        358\n",
       "Wireless Charging          359\n",
       "Length: 66, dtype: int64"
      ]
     },
     "execution_count": 6,
     "metadata": {},
     "output_type": "execute_result"
    }
   ],
   "source": [
    "print(\"Column \\t Number of Missing values\")\n",
    "df2.isna().sum()"
   ]
  },
  {
   "cell_type": "code",
   "execution_count": 7,
   "metadata": {
    "scrolled": true
   },
   "outputs": [
    {
     "name": "stdout",
     "output_type": "stream",
     "text": [
      "Merged dataset - Number of records = 379\n",
      "Merged dataset - Number of features = 116\n"
     ]
    },
    {
     "data": {
      "text/html": [
       "<div>\n",
       "<style scoped>\n",
       "    .dataframe tbody tr th:only-of-type {\n",
       "        vertical-align: middle;\n",
       "    }\n",
       "\n",
       "    .dataframe tbody tr th {\n",
       "        vertical-align: top;\n",
       "    }\n",
       "\n",
       "    .dataframe thead th {\n",
       "        text-align: right;\n",
       "    }\n",
       "</style>\n",
       "<table border=\"1\" class=\"dataframe\">\n",
       "  <thead>\n",
       "    <tr style=\"text-align: right;\">\n",
       "      <th></th>\n",
       "      <th>Brand</th>\n",
       "      <th>Model</th>\n",
       "      <th>Launched</th>\n",
       "      <th>Form factor</th>\n",
       "      <th>Dimensions (mm)</th>\n",
       "      <th>Battery capacity (mAh)</th>\n",
       "      <th>Screen size (inches)</th>\n",
       "      <th>Touchscreen</th>\n",
       "      <th>Resolution</th>\n",
       "      <th>Processor</th>\n",
       "      <th>...</th>\n",
       "      <th>Dual Sim</th>\n",
       "      <th>Device Type</th>\n",
       "      <th>Release Date</th>\n",
       "      <th>Extra Features</th>\n",
       "      <th>Card Slot</th>\n",
       "      <th>Expandable Storage Upto</th>\n",
       "      <th>Video</th>\n",
       "      <th>Browser Supports</th>\n",
       "      <th>Music Playback Time</th>\n",
       "      <th>Wireless Charging</th>\n",
       "    </tr>\n",
       "  </thead>\n",
       "  <tbody>\n",
       "    <tr>\n",
       "      <th>0</th>\n",
       "      <td>Oppo</td>\n",
       "      <td>Reno 2F</td>\n",
       "      <td>29th August 2019</td>\n",
       "      <td>Touchscreen</td>\n",
       "      <td>161.80 x 75.80 x 8.67</td>\n",
       "      <td>4000</td>\n",
       "      <td>6.53</td>\n",
       "      <td>Yes</td>\n",
       "      <td>1,080x2,340 pixels</td>\n",
       "      <td>octa-core</td>\n",
       "      <td>...</td>\n",
       "      <td>Dual Sim</td>\n",
       "      <td>Smartphone</td>\n",
       "      <td>August 28, 2019</td>\n",
       "      <td>NaN</td>\n",
       "      <td>Yes</td>\n",
       "      <td>Upto 256GB</td>\n",
       "      <td>NaN</td>\n",
       "      <td>HTML5</td>\n",
       "      <td>NaN</td>\n",
       "      <td>NaN</td>\n",
       "    </tr>\n",
       "    <tr>\n",
       "      <th>1</th>\n",
       "      <td>Apple</td>\n",
       "      <td>iPhone 7</td>\n",
       "      <td>September 2016</td>\n",
       "      <td>Touchscreen</td>\n",
       "      <td>138.30 x 67.10 x 7.10</td>\n",
       "      <td>1960</td>\n",
       "      <td>4.70</td>\n",
       "      <td>Yes</td>\n",
       "      <td>750x1334 pixels</td>\n",
       "      <td>2.34GHz quad-core</td>\n",
       "      <td>...</td>\n",
       "      <td>Single Sim</td>\n",
       "      <td>Smartphone</td>\n",
       "      <td>September, 2016</td>\n",
       "      <td>NaN</td>\n",
       "      <td>No</td>\n",
       "      <td>NaN</td>\n",
       "      <td>MP4, H.264</td>\n",
       "      <td>NaN</td>\n",
       "      <td>40hours</td>\n",
       "      <td>NaN</td>\n",
       "    </tr>\n",
       "    <tr>\n",
       "      <th>2</th>\n",
       "      <td>Apple</td>\n",
       "      <td>iPhone 7</td>\n",
       "      <td>September 2016</td>\n",
       "      <td>Touchscreen</td>\n",
       "      <td>138.30 x 67.10 x 7.10</td>\n",
       "      <td>1960</td>\n",
       "      <td>4.70</td>\n",
       "      <td>Yes</td>\n",
       "      <td>750x1334 pixels</td>\n",
       "      <td>2.34GHz quad-core</td>\n",
       "      <td>...</td>\n",
       "      <td>Single Sim</td>\n",
       "      <td>Smartphone</td>\n",
       "      <td>September, 2016</td>\n",
       "      <td>NaN</td>\n",
       "      <td>No</td>\n",
       "      <td>NaN</td>\n",
       "      <td>MP4, H.264</td>\n",
       "      <td>NaN</td>\n",
       "      <td>40hours</td>\n",
       "      <td>NaN</td>\n",
       "    </tr>\n",
       "    <tr>\n",
       "      <th>3</th>\n",
       "      <td>Apple</td>\n",
       "      <td>iPhone 6s</td>\n",
       "      <td>September 2015</td>\n",
       "      <td>Touchscreen</td>\n",
       "      <td>138.30 x 67.10 x 7.10</td>\n",
       "      <td>1715</td>\n",
       "      <td>4.70</td>\n",
       "      <td>Yes</td>\n",
       "      <td>750x1334 pixels</td>\n",
       "      <td>1.84GHz dual-core</td>\n",
       "      <td>...</td>\n",
       "      <td>Single Sim</td>\n",
       "      <td>Smartphone</td>\n",
       "      <td>September, 2015</td>\n",
       "      <td>NaN</td>\n",
       "      <td>No</td>\n",
       "      <td>NaN</td>\n",
       "      <td>MP4, H.264</td>\n",
       "      <td>NaN</td>\n",
       "      <td>50hours</td>\n",
       "      <td>NaN</td>\n",
       "    </tr>\n",
       "    <tr>\n",
       "      <th>4</th>\n",
       "      <td>Apple</td>\n",
       "      <td>iPhone 6s</td>\n",
       "      <td>September 2015</td>\n",
       "      <td>Touchscreen</td>\n",
       "      <td>138.30 x 67.10 x 7.10</td>\n",
       "      <td>1715</td>\n",
       "      <td>4.70</td>\n",
       "      <td>Yes</td>\n",
       "      <td>750x1334 pixels</td>\n",
       "      <td>1.84GHz dual-core</td>\n",
       "      <td>...</td>\n",
       "      <td>Single Sim</td>\n",
       "      <td>Smartphone</td>\n",
       "      <td>September, 2015</td>\n",
       "      <td>NaN</td>\n",
       "      <td>No</td>\n",
       "      <td>NaN</td>\n",
       "      <td>MP4, H.264</td>\n",
       "      <td>NaN</td>\n",
       "      <td>50hours</td>\n",
       "      <td>NaN</td>\n",
       "    </tr>\n",
       "  </tbody>\n",
       "</table>\n",
       "<p>5 rows × 116 columns</p>\n",
       "</div>"
      ],
      "text/plain": [
       "   Brand      Model          Launched  Form factor        Dimensions (mm)  \\\n",
       "0   Oppo    Reno 2F  29th August 2019  Touchscreen  161.80 x 75.80 x 8.67   \n",
       "1  Apple   iPhone 7    September 2016  Touchscreen  138.30 x 67.10 x 7.10   \n",
       "2  Apple   iPhone 7    September 2016  Touchscreen  138.30 x 67.10 x 7.10   \n",
       "3  Apple  iPhone 6s    September 2015  Touchscreen  138.30 x 67.10 x 7.10   \n",
       "4  Apple  iPhone 6s    September 2015  Touchscreen  138.30 x 67.10 x 7.10   \n",
       "\n",
       "  Battery capacity (mAh)  Screen size (inches) Touchscreen  \\\n",
       "0                   4000                  6.53         Yes   \n",
       "1                   1960                  4.70         Yes   \n",
       "2                   1960                  4.70         Yes   \n",
       "3                   1715                  4.70         Yes   \n",
       "4                   1715                  4.70         Yes   \n",
       "\n",
       "           Resolution          Processor  ...    Dual Sim Device Type  \\\n",
       "0  1,080x2,340 pixels          octa-core  ...    Dual Sim  Smartphone   \n",
       "1     750x1334 pixels  2.34GHz quad-core  ...  Single Sim  Smartphone   \n",
       "2     750x1334 pixels  2.34GHz quad-core  ...  Single Sim  Smartphone   \n",
       "3     750x1334 pixels  1.84GHz dual-core  ...  Single Sim  Smartphone   \n",
       "4     750x1334 pixels  1.84GHz dual-core  ...  Single Sim  Smartphone   \n",
       "\n",
       "      Release Date Extra Features Card Slot Expandable Storage Upto  \\\n",
       "0  August 28, 2019            NaN       Yes              Upto 256GB   \n",
       "1  September, 2016            NaN        No                     NaN   \n",
       "2  September, 2016            NaN        No                     NaN   \n",
       "3  September, 2015            NaN        No                     NaN   \n",
       "4  September, 2015            NaN        No                     NaN   \n",
       "\n",
       "        Video Browser Supports Music Playback Time Wireless Charging  \n",
       "0         NaN            HTML5                 NaN               NaN  \n",
       "1  MP4, H.264              NaN             40hours               NaN  \n",
       "2  MP4, H.264              NaN             40hours               NaN  \n",
       "3  MP4, H.264              NaN             50hours               NaN  \n",
       "4  MP4, H.264              NaN             50hours               NaN  \n",
       "\n",
       "[5 rows x 116 columns]"
      ]
     },
     "execution_count": 7,
     "metadata": {},
     "output_type": "execute_result"
    }
   ],
   "source": [
    "merged = df1.merge(df2, how='inner',left_on=[\"Model\",\"Brand\"], right_on=[\"model\",\"manufacturer\"])\n",
    "print(\"Merged dataset - Number of records = \" + str(merged.shape[0]))\n",
    "print(\"Merged dataset - Number of features = \" + str(merged.shape[1]))\n",
    "merged.head()"
   ]
  },
  {
   "cell_type": "markdown",
   "metadata": {},
   "source": [
    "### Агрегирање на податоците"
   ]
  },
  {
   "cell_type": "markdown",
   "metadata": {},
   "source": [
    "Од атрибутите во двете податочни множества ги агрегираме оние кои опишуваат исто својство на телефоните. Дополнително атрибутите  на кои вредноста е boolean сите missing values ги пополнуваме соодветно со No (доколку не е експлицитно наведено на страната на пример дека подржува 5G запишуваме дека телефонот не подржува поточно No во соодветната колона на dataframe-от)"
   ]
  },
  {
   "cell_type": "code",
   "execution_count": 8,
   "metadata": {},
   "outputs": [],
   "source": [
    "def describe_column(dataframe, column_name):\n",
    "    \"\"\"\n",
    "    prints number of nan values from dataframe[column_name]\n",
    "    \"\"\"\n",
    "    print(\"Number of nan values for column \\\"\" + column_name + \"\\\" = \" + str(dataframe[column_name].isnull().sum()))\n",
    "\n",
    "def create_column(dataframe,column_name,value = 0):\n",
    "    \"\"\"\n",
    "    creates a column in dataframe with name column_name\n",
    "    \"\"\"\n",
    "    dataframe[column_name] = pd.Series([value for x in range(len(dataframe.index)+1)])\n",
    "\n",
    "def is_null(string):\n",
    "    \"\"\"\n",
    "    returns boolean whether the string is nan or not\n",
    "    \"\"\"\n",
    "    return string == string"
   ]
  },
  {
   "cell_type": "markdown",
   "metadata": {},
   "source": [
    "1) Месец и ден на пуштање на телефонот во продажба:"
   ]
  },
  {
   "cell_type": "code",
   "execution_count": 9,
   "metadata": {},
   "outputs": [
    {
     "name": "stdout",
     "output_type": "stream",
     "text": [
      "Number of nan values for column \"Launched\" = 1\n",
      "Number of nan values for column \"Release Date\" = 19\n"
     ]
    }
   ],
   "source": [
    "describe_column(merged, 'Launched')  #df1\n",
    "describe_column(merged, 'Release Date')   #df2"
   ]
  },
  {
   "cell_type": "code",
   "execution_count": 10,
   "metadata": {},
   "outputs": [],
   "source": [
    "create_column(merged,'Launched_Month')\n",
    "create_column(merged,'Launched_Month')"
   ]
  },
  {
   "cell_type": "code",
   "execution_count": 11,
   "metadata": {},
   "outputs": [],
   "source": [
    "for index, row in merged.iterrows():\n",
    "    if is_null(row['Launched']):\n",
    "        launched = row['Launched']\n",
    "        merged.loc[index,'Launched_Month']=launched.split(\" \")[-2].replace(',','')\n",
    "        merged.loc[index,'Launched_Year']=launched.split(\" \")[-1]\n",
    "    elif is_null(row['Release Date']):\n",
    "        launched = row['Release Date']\n",
    "        merged.loc[index,'Launched_Month']=launched.split(\" \")[-2].replace(',','')\n",
    "        merged.loc[index,'Launched_Year']=launched.split(\" \")[-1]\n",
    "\n",
    "merged = merged[merged['Launched_Month'] != 0]    \n",
    "merged = merged[merged['Launched_Month'] != \"20\"]"
   ]
  },
  {
   "cell_type": "code",
   "execution_count": 12,
   "metadata": {},
   "outputs": [],
   "source": [
    "merged = merged.drop(['Launched','Release Date'],axis=1)"
   ]
  },
  {
   "cell_type": "markdown",
   "metadata": {},
   "source": [
    "2) Податоци за висина, ширина и тежина "
   ]
  },
  {
   "cell_type": "code",
   "execution_count": 13,
   "metadata": {},
   "outputs": [
    {
     "name": "stdout",
     "output_type": "stream",
     "text": [
      "Number of nan values for column \"Height\" = 19\n",
      "Number of nan values for column \"Width\" = 19\n",
      "Number of nan values for column \"Weight\" = 24\n",
      "Number of nan values for column \"Dimensions\" = 19\n",
      "Number of nan values for column \"Dimensions (mm)\" = 18\n",
      "Number of nan values for column \"Weight (g)\" = 40\n"
     ]
    }
   ],
   "source": [
    "describe_column(merged,'Height') #df2\n",
    "describe_column(merged,'Width') #df2\n",
    "describe_column(merged,'Weight') #df2\n",
    "describe_column(merged,'Dimensions') #df2\n",
    "describe_column(merged,'Dimensions (mm)') #df1\n",
    "describe_column(merged, 'Weight (g)') #df1"
   ]
  },
  {
   "cell_type": "code",
   "execution_count": 14,
   "metadata": {},
   "outputs": [],
   "source": [
    "for index, row in merged.iterrows():\n",
    "    if is_null(row['Height']):\n",
    "        merged.loc[index,'Height']=row['Height'].replace(\"m\",\"\")\n",
    "        merged.loc[index,'Width']=row['Width'].replace(\"m\",\"\")\n",
    "    elif is_null(row['Dimensions (mm)']):\n",
    "        dimensions = row['Dimensions (mm)']\n",
    "        dimensions = dimensions.split(\" x \")\n",
    "        merged.loc[index,'Height']=dimensions[0]\n",
    "        merged.loc[index,'Width']=dimensions[1]"
   ]
  },
  {
   "cell_type": "code",
   "execution_count": 15,
   "metadata": {},
   "outputs": [],
   "source": [
    "for index, row in merged.iterrows():\n",
    "    if row['Weight'] == row['Weight']:\n",
    "        merged.loc[index,'Weight']=row['Weight'].replace(\"g\",\"\")\n",
    "    elif row['Weight (g)'] == row['Weight (g)']:\n",
    "        merged.loc[index,'Weight']=row['Weight (g)']"
   ]
  },
  {
   "cell_type": "code",
   "execution_count": 16,
   "metadata": {},
   "outputs": [
    {
     "name": "stdout",
     "output_type": "stream",
     "text": [
      "Number of nan values for column \"Height\" = 8\n",
      "Number of nan values for column \"Width\" = 8\n",
      "Number of nan values for column \"Weight\" = 14\n"
     ]
    }
   ],
   "source": [
    "describe_column(merged,'Height') \n",
    "describe_column(merged,'Width') \n",
    "describe_column(merged,'Weight') "
   ]
  },
  {
   "cell_type": "code",
   "execution_count": 17,
   "metadata": {},
   "outputs": [],
   "source": [
    "merged = merged.drop(['Dimensions', 'Dimensions (mm)', 'Weight (g)'],axis=1)"
   ]
  },
  {
   "cell_type": "markdown",
   "metadata": {},
   "source": [
    "Овие податоци ќе ги оставиме празни и ќе ги пополниме во понатамошното процесирање"
   ]
  },
  {
   "cell_type": "markdown",
   "metadata": {},
   "source": [
    "3) Квалитет на предна и задна камера, број на задни камери"
   ]
  },
  {
   "cell_type": "code",
   "execution_count": 18,
   "metadata": {},
   "outputs": [
    {
     "name": "stdout",
     "output_type": "stream",
     "text": [
      "Number of nan values for column \"Rear camera\" = 0\n",
      "Number of nan values for column \"Front camera\" = 0\n",
      "Number of nan values for column \"Rear Camera\" = 0\n",
      "Number of nan values for column \"Front Camera\" = 1\n"
     ]
    }
   ],
   "source": [
    "describe_column(merged,'Rear camera') #df1\n",
    "describe_column(merged,'Front camera') #df1\n",
    "describe_column(merged,'Rear Camera') #df2\n",
    "describe_column(merged,'Front Camera') #df2"
   ]
  },
  {
   "cell_type": "code",
   "execution_count": 19,
   "metadata": {},
   "outputs": [],
   "source": [
    "create_column(merged, 'Number of Rear Cameras', 1)"
   ]
  },
  {
   "cell_type": "code",
   "execution_count": 20,
   "metadata": {},
   "outputs": [],
   "source": [
    "for index, row in merged.iterrows():\n",
    "    rear_camera = row['Rear Camera']\n",
    "    rear_camera = rear_camera.split(\" \")\n",
    "    merged.loc[index,'Rear Camera']=rear_camera[0].replace(\"MP\",\"\")\n",
    "    if rear_camera[-1] == \"Quad\":\n",
    "        merged.loc[index,'Number of Rear Cameras']=4\n",
    "    elif rear_camera[-1] == \"Triple\":\n",
    "        merged.loc[index,'Number of Rear Cameras']=3\n",
    "    elif rear_camera[-1] == \"Dual\":\n",
    "        merged.loc[index,'Number of Rear Cameras']=2"
   ]
  },
  {
   "cell_type": "code",
   "execution_count": 21,
   "metadata": {},
   "outputs": [],
   "source": [
    "for index, row in merged.iterrows():\n",
    "    if row['Front Camera'] == row['Front Camera']:\n",
    "        front_camera = row['Front Camera'].split(\" \")\n",
    "        merged.loc[index,'Front Camera']=front_camera[0].replace(\"MP\",\"\")\n",
    "    else:\n",
    "        merged.loc[index,'Front Camera']=0"
   ]
  },
  {
   "cell_type": "code",
   "execution_count": 22,
   "metadata": {},
   "outputs": [
    {
     "name": "stdout",
     "output_type": "stream",
     "text": [
      "Number of nan values for column \"flashType\" = 24\n"
     ]
    }
   ],
   "source": [
    "describe_column(merged,'flashType')"
   ]
  },
  {
   "cell_type": "code",
   "execution_count": 23,
   "metadata": {},
   "outputs": [],
   "source": [
    "for index, row in merged.iterrows():\n",
    "    if row['flashType'] != row['flashType']:\n",
    "        merged.loc[index,'flashType']=\"LED\"   #најзастапената категорија"
   ]
  },
  {
   "cell_type": "code",
   "execution_count": 24,
   "metadata": {},
   "outputs": [],
   "source": [
    "merged = merged.drop(['Rear camera','Front camera','Rear flash','Front autofocus','Front flash','Rear autofocus'\n",
    "                      ,'Pop-Up Camera','Flash'],axis=1)\n",
    "merged = merged.rename(mapper={'flashType': 'Flash'},axis='columns')"
   ]
  },
  {
   "cell_type": "markdown",
   "metadata": {},
   "source": [
    "4) Информации за батеријата"
   ]
  },
  {
   "cell_type": "code",
   "execution_count": 25,
   "metadata": {},
   "outputs": [
    {
     "name": "stdout",
     "output_type": "stream",
     "text": [
      "Number of nan values for column \"Removable Battery\" = 0\n",
      "Number of nan values for column \"Removable battery\" = 139\n",
      "Number of nan values for column \"Battery capacity (mAh)\" = 4\n"
     ]
    }
   ],
   "source": [
    "describe_column(merged,'Removable Battery') #df2\n",
    "describe_column(merged,'Removable battery') #df1\n",
    "describe_column(merged,'Battery capacity (mAh)') #df1"
   ]
  },
  {
   "cell_type": "markdown",
   "metadata": {},
   "source": [
    "Податоците за капацитетот на батеријата ќе ги оставиме празни и ќе ги пополниме во понатамошното процесирање."
   ]
  },
  {
   "cell_type": "code",
   "execution_count": 26,
   "metadata": {},
   "outputs": [],
   "source": [
    "merged = merged.rename(mapper={'Battery capacity (mAh)': 'Battery capacity'},axis='columns')\n",
    "merged = merged.drop(['Removable battery'],axis=1)"
   ]
  },
  {
   "cell_type": "code",
   "execution_count": 27,
   "metadata": {},
   "outputs": [
    {
     "name": "stdout",
     "output_type": "stream",
     "text": [
      "Number of nan values for column \"Bluetooth_x\" = 5\n",
      "Number of nan values for column \"Bluetooth_y\" = 0\n"
     ]
    }
   ],
   "source": [
    "describe_column(merged,'Bluetooth_x')\n",
    "describe_column(merged,'Bluetooth_y')"
   ]
  },
  {
   "cell_type": "code",
   "execution_count": 28,
   "metadata": {},
   "outputs": [],
   "source": [
    "merged = merged.rename(mapper={'Bluetooth_y': 'Bluetooth'},axis='columns')\n",
    "merged = merged.drop(['Bluetooth_x'],axis=1)"
   ]
  },
  {
   "cell_type": "markdown",
   "metadata": {},
   "source": [
    "6) RAM"
   ]
  },
  {
   "cell_type": "code",
   "execution_count": 29,
   "metadata": {},
   "outputs": [
    {
     "name": "stdout",
     "output_type": "stream",
     "text": [
      "Number of nan values for column \"RAM_x\" = 4\n",
      "Number of nan values for column \"RAM_y\" = 0\n"
     ]
    }
   ],
   "source": [
    "describe_column(merged,'RAM_x')\n",
    "describe_column(merged,'RAM_y')"
   ]
  },
  {
   "cell_type": "code",
   "execution_count": 30,
   "metadata": {},
   "outputs": [],
   "source": [
    "for index, row in merged.iterrows():\n",
    "    merged.loc[index,'RAM_y']=row[\"RAM_y\"].replace(\"GB\",\"\")"
   ]
  },
  {
   "cell_type": "code",
   "execution_count": 31,
   "metadata": {},
   "outputs": [],
   "source": [
    "merged = merged.rename(mapper={'RAM_y': 'RAM'},axis='columns')\n",
    "merged = merged.drop(['RAM_x'],axis=1)"
   ]
  },
  {
   "cell_type": "markdown",
   "metadata": {},
   "source": [
    "7) Touchscreen"
   ]
  },
  {
   "cell_type": "code",
   "execution_count": 32,
   "metadata": {},
   "outputs": [
    {
     "name": "stdout",
     "output_type": "stream",
     "text": [
      "Number of nan values for column \"Touchscreen\" = 8\n"
     ]
    }
   ],
   "source": [
    "describe_column(merged,'Touchscreen')"
   ]
  },
  {
   "cell_type": "code",
   "execution_count": 33,
   "metadata": {},
   "outputs": [],
   "source": [
    "for index, row in merged.iterrows():\n",
    "    if row['Touchscreen'] != row['Touchscreen']:\n",
    "        merged.loc[index,'Touchscreen']=\"No\""
   ]
  },
  {
   "cell_type": "code",
   "execution_count": 34,
   "metadata": {},
   "outputs": [],
   "source": [
    "merged = merged.drop(['Form factor'],axis=1)"
   ]
  },
  {
   "cell_type": "markdown",
   "metadata": {},
   "source": [
    "8) Големина на екран"
   ]
  },
  {
   "cell_type": "code",
   "execution_count": 35,
   "metadata": {},
   "outputs": [
    {
     "name": "stdout",
     "output_type": "stream",
     "text": [
      "Number of nan values for column \"Screen size (inches)\" = 0\n",
      "Number of nan values for column \"Size\" = 0\n"
     ]
    }
   ],
   "source": [
    "describe_column(merged,'Screen size (inches)')\n",
    "describe_column(merged,'Size')"
   ]
  },
  {
   "cell_type": "code",
   "execution_count": 36,
   "metadata": {},
   "outputs": [],
   "source": [
    "merged = merged.drop(['Size'],axis=1)\n",
    "merged = merged.rename(mapper={'Screen size (inches)': 'Screen Size'},axis='columns')"
   ]
  },
  {
   "cell_type": "markdown",
   "metadata": {},
   "source": [
    "9) Процесор"
   ]
  },
  {
   "cell_type": "code",
   "execution_count": 37,
   "metadata": {},
   "outputs": [
    {
     "name": "stdout",
     "output_type": "stream",
     "text": [
      "Number of nan values for column \"Processor\" = 9\n",
      "Values of merged['Processor'] : \n",
      "0              octa-core\n",
      "1      2.34GHz quad-core\n",
      "2      2.34GHz quad-core\n",
      "3      1.84GHz dual-core\n",
      "4      1.84GHz dual-core\n",
      "             ...        \n",
      "374     2.2GHz octa-core\n",
      "375     2.2GHz octa-core\n",
      "376     1.4GHz quad-core\n",
      "377            octa-core\n",
      "378            octa-core\n",
      "Name: Processor, Length: 378, dtype: object\n",
      "\n",
      "\n",
      "\n",
      "Number of nan values for column \"CPU\" = 0\n",
      "Values of merged['CPU']: \n",
      "0       2.1GHz\n",
      "1      2.34GHz\n",
      "2      2.34GHz\n",
      "3      1.84GHz\n",
      "4      1.84GHz\n",
      "        ...   \n",
      "374     2.2GHz\n",
      "375     2.2GHz\n",
      "376     1.4GHz\n",
      "377     1.4GHz\n",
      "378     1.5GHz\n",
      "Name: CPU, Length: 378, dtype: object\n"
     ]
    }
   ],
   "source": [
    "describe_column(merged,'Processor')\n",
    "print(\"Values of merged['Processor'] : \")\n",
    "print(merged['Processor'])\n",
    "print(\"\\n\\n\")\n",
    "describe_column(merged,'CPU')\n",
    "print(\"Values of merged['CPU']: \")\n",
    "print(merged['CPU'])"
   ]
  },
  {
   "cell_type": "code",
   "execution_count": 38,
   "metadata": {},
   "outputs": [],
   "source": [
    "for index, row in merged.iterrows():\n",
    "    merged.loc[index,'CPU']=row['CPU'].replace(\"GHz\",\"\")"
   ]
  },
  {
   "cell_type": "code",
   "execution_count": 39,
   "metadata": {},
   "outputs": [
    {
     "name": "stdout",
     "output_type": "stream",
     "text": [
      "Number of nan values for column \"cpuCores\" = 0\n",
      "Number of nan values for column \"Core Details\" = 176\n"
     ]
    }
   ],
   "source": [
    "describe_column(merged,'cpuCores')  \n",
    "describe_column(merged,'Core Details')  "
   ]
  },
  {
   "cell_type": "code",
   "execution_count": 40,
   "metadata": {},
   "outputs": [],
   "source": [
    "for index, row in merged.iterrows():\n",
    "    merged.loc[index,'cpuCores']=row['cpuCores'].split(\" \")[0]"
   ]
  },
  {
   "cell_type": "code",
   "execution_count": 41,
   "metadata": {},
   "outputs": [],
   "source": [
    "merged = merged.drop(['Processor','Processor make', \"Core Details\"],axis=1)"
   ]
  },
  {
   "cell_type": "markdown",
   "metadata": {},
   "source": [
    "10) Резолуција, pixels per inch"
   ]
  },
  {
   "cell_type": "code",
   "execution_count": 42,
   "metadata": {},
   "outputs": [
    {
     "name": "stdout",
     "output_type": "stream",
     "text": [
      "Number of nan values for column \"Display Resolution\" = 0\n",
      "Number of nan values for column \"Resolution\" = 12\n"
     ]
    }
   ],
   "source": [
    "describe_column(merged,'Display Resolution')\n",
    "describe_column(merged,'Resolution')"
   ]
  },
  {
   "cell_type": "code",
   "execution_count": 43,
   "metadata": {},
   "outputs": [],
   "source": [
    "create_column(merged,'Resolution_x')\n",
    "create_column(merged,'Resolution_y')"
   ]
  },
  {
   "cell_type": "code",
   "execution_count": 44,
   "metadata": {},
   "outputs": [],
   "source": [
    "for index, row in merged.iterrows():\n",
    "    resolution = row['Display Resolution']\n",
    "    resolution = resolution.replace(\"pixels\",\"\").split(\"x\")\n",
    "    merged.loc[index,'Resolution_x']=resolution[0]\n",
    "    merged.loc[index,'Resolution_y']=resolution[1]"
   ]
  },
  {
   "cell_type": "code",
   "execution_count": 45,
   "metadata": {},
   "outputs": [
    {
     "name": "stdout",
     "output_type": "stream",
     "text": [
      "Number of nan values for column \"PPI\" = 0\n"
     ]
    }
   ],
   "source": [
    "describe_column(merged,'PPI')"
   ]
  },
  {
   "cell_type": "code",
   "execution_count": 46,
   "metadata": {},
   "outputs": [],
   "source": [
    "for index, row in merged.iterrows():\n",
    "    merged.loc[index,'PPI']=row['PPI'].replace(\"PPI\",\"\").replace(\"~\",\"\")"
   ]
  },
  {
   "cell_type": "code",
   "execution_count": 47,
   "metadata": {},
   "outputs": [],
   "source": [
    "merged = merged.drop(['Resolution','Display Resolution','Front Video Resolution'],axis=1)"
   ]
  },
  {
   "cell_type": "markdown",
   "metadata": {},
   "source": [
    "11) Оперативен систем"
   ]
  },
  {
   "cell_type": "code",
   "execution_count": 48,
   "metadata": {},
   "outputs": [
    {
     "name": "stdout",
     "output_type": "stream",
     "text": [
      "Number of nan values for column \"Operating system\" = 1\n",
      "Values of merged['Operating system'] : \n",
      "0        Android Pie\n",
      "1             iOS 10\n",
      "2             iOS 10\n",
      "3              iOS 9\n",
      "4              iOS 9\n",
      "           ...      \n",
      "374    Android 7.1.1\n",
      "375    Android 7.1.1\n",
      "376    Android 7.1.2\n",
      "377      Android 7.1\n",
      "378      Android 7.0\n",
      "Name: Operating system, Length: 378, dtype: object\n",
      "\n",
      "\n",
      "\n",
      "Number of nan values for column \"OS\" = 0\n",
      "Values of merged['OS']: \n",
      "0      Android\n",
      "1          iOS\n",
      "2          iOS\n",
      "3          iOS\n",
      "4          iOS\n",
      "        ...   \n",
      "374    Android\n",
      "375    Android\n",
      "376    Android\n",
      "377    Android\n",
      "378    Android\n",
      "Name: OS, Length: 378, dtype: object\n"
     ]
    }
   ],
   "source": [
    "describe_column(merged,'Operating system')\n",
    "print(\"Values of merged['Operating system'] : \")\n",
    "print(merged['Operating system'])\n",
    "print(\"\\n\\n\")\n",
    "describe_column(merged,'OS')\n",
    "print(\"Values of merged['OS']: \")\n",
    "print(merged['OS'])"
   ]
  },
  {
   "cell_type": "code",
   "execution_count": 49,
   "metadata": {},
   "outputs": [],
   "source": [
    "merged = merged.drop(['Operating system'],axis=1)"
   ]
  },
  {
   "cell_type": "markdown",
   "metadata": {},
   "source": [
    "12) Меморија, дополнителна меморија"
   ]
  },
  {
   "cell_type": "code",
   "execution_count": 50,
   "metadata": {},
   "outputs": [
    {
     "name": "stdout",
     "output_type": "stream",
     "text": [
      "Number of nan values for column \"Internal storage\" = 0\n",
      "Number of nan values for column \"Storage\" = 0\n"
     ]
    }
   ],
   "source": [
    "describe_column(merged, 'Internal storage')\n",
    "describe_column(merged, 'Storage')"
   ]
  },
  {
   "cell_type": "code",
   "execution_count": 51,
   "metadata": {},
   "outputs": [],
   "source": [
    "for index, row in merged.iterrows():\n",
    "    merged.loc[index,'Internal storage']=row['Internal storage'].replace(\"GB\",\"\")"
   ]
  },
  {
   "cell_type": "code",
   "execution_count": 52,
   "metadata": {},
   "outputs": [
    {
     "name": "stdout",
     "output_type": "stream",
     "text": [
      "Number of nan values for column \"Expandable storage\" = 11\n",
      "Number of nan values for column \"Expandable storage type\" = 118\n",
      "Number of nan values for column \"Expandable storage up to (GB)\" = 162\n",
      "Number of nan values for column \"Expandable Storage Upto\" = 115\n"
     ]
    }
   ],
   "source": [
    "describe_column(merged, 'Expandable storage')\n",
    "describe_column(merged, 'Expandable storage type')\n",
    "describe_column(merged, 'Expandable storage up to (GB)')\n",
    "describe_column(merged, 'Expandable Storage Upto')"
   ]
  },
  {
   "cell_type": "code",
   "execution_count": 53,
   "metadata": {},
   "outputs": [],
   "source": [
    "for index, row in merged.iterrows():\n",
    "    if row['Expandable storage'] == \"No\":\n",
    "        merged.loc[index,'Expandable storage up to (GB)']=0\n",
    "    elif row['Expandable storage up to (GB)'] == row['Expandable storage up to (GB)']:\n",
    "        merged.loc[index,'Expandable storage up to (GB)']=row['Expandable storage up to (GB)']\n",
    "    elif row['Expandable Storage Upto'] == row['Expandable Storage Upto']:\n",
    "        storage = row['Expandable Storage Upto'].replace(\"Upto\",\"\")\n",
    "        if \"TB\" in storage:\n",
    "            storage = storage.replace(\"TB\",\"\")\n",
    "            int_storage = int(storage) * 1000\n",
    "            storage = str(int_storage)\n",
    "        merged.loc[index,'Expandable storage up to (GB)']=storage.replace(\"GB\",\"\")\n",
    "    else:\n",
    "        merged.loc[index,'Expandable storage up to (GB)']=0"
   ]
  },
  {
   "cell_type": "code",
   "execution_count": 54,
   "metadata": {},
   "outputs": [],
   "source": [
    "merged = merged.drop(['Expandable storage','Expandable Storage Upto','Expandable storage type','Storage'],axis=1)\n",
    "merged = merged.rename(mapper={'Expandable storage up to (GB)': 'Expandable storage'},axis='columns')"
   ]
  },
  {
   "cell_type": "markdown",
   "metadata": {},
   "source": [
    "13) Wi-Fi"
   ]
  },
  {
   "cell_type": "code",
   "execution_count": 55,
   "metadata": {},
   "outputs": [
    {
     "name": "stdout",
     "output_type": "stream",
     "text": [
      "Number of nan values for column \"Wi-Fi\" = 2\n",
      "Number of nan values for column \"Wifi\" = 0\n"
     ]
    }
   ],
   "source": [
    "describe_column(merged,\"Wi-Fi\")\n",
    "describe_column(merged,\"Wifi\")"
   ]
  },
  {
   "cell_type": "code",
   "execution_count": 56,
   "metadata": {},
   "outputs": [],
   "source": [
    "merged = merged.drop(['Wi-Fi','Wi-Fi standards supported'],axis=1)\n",
    "merged = merged.rename(mapper={'Wifi': 'Wi-Fi'},axis='columns')"
   ]
  },
  {
   "cell_type": "markdown",
   "metadata": {},
   "source": [
    "14) Wireless charging"
   ]
  },
  {
   "cell_type": "code",
   "execution_count": 57,
   "metadata": {},
   "outputs": [
    {
     "name": "stdout",
     "output_type": "stream",
     "text": [
      "Number of nan values for column \"Wireless charging\" = 234\n",
      "Number of nan values for column \"Wireless Charging\" = 327\n"
     ]
    }
   ],
   "source": [
    "describe_column(merged,\"Wireless charging\")\n",
    "describe_column(merged,\"Wireless Charging\")\n"
   ]
  },
  {
   "cell_type": "code",
   "execution_count": 58,
   "metadata": {},
   "outputs": [],
   "source": [
    "for index, row in merged.iterrows():\n",
    "    if row['Wireless charging'] == row['Wireless charging']:\n",
    "        merged.loc[index,'Wireless charging']=row['Wireless charging']\n",
    "    elif row['Wireless Charging'] == row['Wireless Charging']:\n",
    "        merged.loc[index,'Wireless charging']=row['Wireless Charging']\n",
    "    else:\n",
    "        merged.loc[index,'Wireless charging']=\"No\""
   ]
  },
  {
   "cell_type": "code",
   "execution_count": 59,
   "metadata": {},
   "outputs": [],
   "source": [
    "merged=merged.drop(\"Wireless Charging\",axis=1)"
   ]
  },
  {
   "cell_type": "markdown",
   "metadata": {},
   "source": [
    "15) Слушалки"
   ]
  },
  {
   "cell_type": "code",
   "execution_count": 60,
   "metadata": {},
   "outputs": [
    {
     "name": "stdout",
     "output_type": "stream",
     "text": [
      "Number of nan values for column \"Headphones\" = 87\n",
      "Values of merged['Headphones']: \n",
      "0      3.5mm\n",
      "1        NaN\n",
      "2        NaN\n",
      "3      3.5mm\n",
      "4      3.5mm\n",
      "       ...  \n",
      "374      Yes\n",
      "375      Yes\n",
      "376    3.5mm\n",
      "377    3.5mm\n",
      "378      Yes\n",
      "Name: Headphones, Length: 378, dtype: object\n"
     ]
    }
   ],
   "source": [
    "describe_column(merged,'Headphones')\n",
    "print(\"Values of merged['Headphones']: \")\n",
    "print(merged['Headphones'])"
   ]
  },
  {
   "cell_type": "code",
   "execution_count": 61,
   "metadata": {},
   "outputs": [],
   "source": [
    "for index, row in merged.iterrows():\n",
    "    if row[\"Headphones\"] != \"No\":\n",
    "        merged.loc[index,'Headphones']=\"Yes\""
   ]
  },
  {
   "cell_type": "markdown",
   "metadata": {},
   "source": [
    "16) USB порта"
   ]
  },
  {
   "cell_type": "code",
   "execution_count": 62,
   "metadata": {},
   "outputs": [
    {
     "name": "stdout",
     "output_type": "stream",
     "text": [
      "Number of nan values for column \"USB\" = 0\n",
      "Values of merged['USB']: \n",
      "0      Yes\n",
      "1      Yes\n",
      "2      Yes\n",
      "3      Yes\n",
      "4      Yes\n",
      "      ... \n",
      "374    Yes\n",
      "375    Yes\n",
      "376    Yes\n",
      "377    Yes\n",
      "378    Yes\n",
      "Name: USB, Length: 378, dtype: object\n",
      "\n",
      "\n",
      "\n",
      "Number of nan values for column \"Usb Type\" = 25\n",
      "Values of merged['Usb Type']: \n",
      "0         microUSB\n",
      "1      Proprietary\n",
      "2      Proprietary\n",
      "3      Proprietary\n",
      "4      Proprietary\n",
      "          ...     \n",
      "374            NaN\n",
      "375            NaN\n",
      "376       microUSB\n",
      "377            NaN\n",
      "378            NaN\n",
      "Name: Usb Type, Length: 378, dtype: object\n"
     ]
    }
   ],
   "source": [
    "describe_column(merged,'USB')\n",
    "print(\"Values of merged['USB']: \")\n",
    "print(merged['USB'])\n",
    "print(\"\\n\\n\")\n",
    "describe_column(merged,'Usb Type')\n",
    "print(\"Values of merged['Usb Type']: \")\n",
    "print(merged['Usb Type'])"
   ]
  },
  {
   "cell_type": "markdown",
   "metadata": {},
   "source": [
    "Податоците што недостасуваат ќе ги оставиме празни и ќе ги пополниме во понатамошното процесирање."
   ]
  },
  {
   "cell_type": "code",
   "execution_count": 63,
   "metadata": {},
   "outputs": [],
   "source": [
    "merged = merged.drop(['USB','USB Type-C','USB Feature','Usb Version'],axis=1)"
   ]
  },
  {
   "cell_type": "markdown",
   "metadata": {},
   "source": [
    "17) Face unlock"
   ]
  },
  {
   "cell_type": "code",
   "execution_count": 64,
   "metadata": {},
   "outputs": [
    {
     "name": "stdout",
     "output_type": "stream",
     "text": [
      "Number of nan values for column \"Face unlock\" = 151\n",
      "Number of nan values for column \"Face Unlock\" = 100\n"
     ]
    }
   ],
   "source": [
    "describe_column(merged,'Face unlock')\n",
    "describe_column(merged,'Face Unlock')"
   ]
  },
  {
   "cell_type": "code",
   "execution_count": 65,
   "metadata": {},
   "outputs": [],
   "source": [
    "for index, row in merged.iterrows():\n",
    "    if row['Face unlock'] == row['Face unlock']:\n",
    "        merged.loc[index,'Face unlock']=row['Face unlock']\n",
    "    elif row['Face Unlock'] == row['Face Unlock']:\n",
    "        merged.loc[index,'Face unlock']=row['Face Unlock']\n",
    "    else:\n",
    "        merged.loc[index,'Face unlock']=\"No\""
   ]
  },
  {
   "cell_type": "code",
   "execution_count": 66,
   "metadata": {},
   "outputs": [],
   "source": [
    "merged = merged.drop(\"Face Unlock\",axis=1)"
   ]
  },
  {
   "cell_type": "markdown",
   "metadata": {},
   "source": [
    "18) Sensors"
   ]
  },
  {
   "cell_type": "code",
   "execution_count": 67,
   "metadata": {},
   "outputs": [
    {
     "name": "stdout",
     "output_type": "stream",
     "text": [
      "Number of nan values for column \"Fingerprint sensor\" = 88\n",
      "Number of nan values for column \"Fingerprint Sensor\" = 22\n"
     ]
    }
   ],
   "source": [
    "describe_column(merged, 'Fingerprint sensor')\n",
    "describe_column(merged, 'Fingerprint Sensor')"
   ]
  },
  {
   "cell_type": "code",
   "execution_count": 68,
   "metadata": {},
   "outputs": [],
   "source": [
    "for index, row in merged.iterrows():\n",
    "    if row['Fingerprint sensor'] == row['Fingerprint sensor']:\n",
    "        merged.loc[index,'Fingerprint sensor']=row['Fingerprint sensor']\n",
    "    elif row['Fingerprint Sensor'] == row['Fingerprint Sensor']:\n",
    "        merged.loc[index,'Fingerprint sensor']=row['Fingerprint Sensor']\n",
    "    else:\n",
    "        merged.loc[index,'Fingerprint sensor']=\"No\""
   ]
  },
  {
   "cell_type": "code",
   "execution_count": 69,
   "metadata": {},
   "outputs": [],
   "source": [
    "merged = merged.drop(['In-Display Fingerprint Sensor','Fingerprint Sensor'],axis=1)"
   ]
  },
  {
   "cell_type": "code",
   "execution_count": 70,
   "metadata": {},
   "outputs": [
    {
     "name": "stdout",
     "output_type": "stream",
     "text": [
      "Number of nan values for column \"Accelerometer\" = 3\n",
      "Number of nan values for column \"Proximity sensor\" = 12\n",
      "Number of nan values for column \"Ambient light sensor\" = 24\n",
      "Number of nan values for column \"Sensors\" = 6\n"
     ]
    }
   ],
   "source": [
    "describe_column(merged,'Accelerometer')\n",
    "describe_column(merged,'Proximity sensor')\n",
    "describe_column(merged,'Ambient light sensor')\n",
    "describe_column(merged,'Sensors')  "
   ]
  },
  {
   "cell_type": "code",
   "execution_count": 71,
   "metadata": {},
   "outputs": [],
   "source": [
    "sensors = set()\n",
    "for index, row in merged.iterrows():\n",
    "    if row['Sensors'] == row['Sensors']:\n",
    "        for sensor in row['Sensors'].split(\",\"):\n",
    "            sensors.add(sensor.lower().replace(\" \",\"\"))\n",
    "\n",
    "sensor_columns=[\"Light Sensor\",\"Compass Sensor\",\"Proximity Sensor\", \"Magnetic Sensor\", \"Gravity Sensor\", \"Heathtracking Sensor\", \"Gyroscope Sensor\",\n",
    "               \"Accelerometar Sensor\", \"Vibration Sensor\",\"Laser Sensor\"]\n",
    "\n",
    "d = {'ambientlight':1, 'compass':2, 'rproximity':3, 'magnetic':4, 'gravity':5, 'magneticinductionsensor':4, 'hallsensor':4, \n",
    "     'heartrate':6, 'gyro-meter':7, 'geomagneticsensor':4, 'electroniccompass':2, 'accelerationsensor':8, 'vibrationmoto':9, \n",
    "     'e-compass':2, 'lightsensor':1, 'lasersensor':10,'gyrosensor':7, 'light':1, \n",
    "     'gyro':7, 'vibrationmotor':9, 'spo2':6,  'gyroscope':7, \n",
    "     'gravitysensor':5, 'virtualgyroscope':7, 'pedometer':6, 'proximit':3, \n",
    "     'proximitysensor':3, 'proximity':3, 'threeaxis':4, 'rgbambientlightsensor':1, 'distant':3, 'rgblightsensor':1, \n",
    "     'magneticinduction':4, 'geomagnetic':4, 'ambientlightsensor':1, 'accelerometer(g-sensor)':8, 'g-sensor':8, \n",
    "     'laserfocusandsteptrackingdual':10, 'accelerometersensor':8, 'acceleration':8, 'virtuallightsensing':1, \n",
    "     'accelerometer':8, 'ecompass':2}\n",
    "for sc in sensor_columns:\n",
    "    create_column(merged,sc)\n"
   ]
  },
  {
   "cell_type": "code",
   "execution_count": 72,
   "metadata": {},
   "outputs": [],
   "source": [
    "for index, row in merged.iterrows():\n",
    "    if row['Sensors'] == row['Sensors']:\n",
    "        for sensor in row['Sensors'].split(\",\"):\n",
    "            if sensor.lower().replace(\" \",\"\") in d:\n",
    "                i = d[sensor.lower().replace(\" \",\"\")] - 1\n",
    "                merged.loc[index,sensor_columns[i]]=1\n",
    "    if row['Accelerometer'] == row['Accelerometer']:\n",
    "        if row['Accelerometer']==\"Yes\":\n",
    "            merged.loc[index,\"Accelerometar Sensor\"]=1\n",
    "        else:\n",
    "            merged.loc[index,\"Accelerometar Sensor\"]=1\n",
    "    if row['Proximity sensor'] == row['Proximity sensor']:\n",
    "        if row['Proximity sensor']==\"Yes\":\n",
    "            merged.loc[index,\"Proximity Sensor\"]=1\n",
    "        else:\n",
    "            merged.loc[index,\"Proximity Sensor\"]=1\n",
    "    if row['Ambient light sensor'] == row['Ambient light sensor']:\n",
    "        if row['Ambient light sensor']==\"Yes\":\n",
    "            merged.loc[index,\"Light Sensor\"]=1\n",
    "        else:\n",
    "            merged.loc[index,\"Light Sensor\"]=1\n",
    "    "
   ]
  },
  {
   "cell_type": "code",
   "execution_count": 73,
   "metadata": {},
   "outputs": [],
   "source": [
    "merged = merged.drop(['Compass/ Magnetometer','Gyroscope','Accelerometer','Proximity sensor','Ambient light sensor','Sensors'],axis=1)"
   ]
  },
  {
   "cell_type": "markdown",
   "metadata": {},
   "source": [
    "19) GPS"
   ]
  },
  {
   "cell_type": "code",
   "execution_count": 74,
   "metadata": {},
   "outputs": [
    {
     "name": "stdout",
     "output_type": "stream",
     "text": [
      "Number of nan values for column \"GPS_x\" = 19\n",
      "Number of nan values for column \"GPS_y\" = 0\n"
     ]
    }
   ],
   "source": [
    "describe_column(merged,'GPS_x')\n",
    "describe_column(merged,'GPS_y')"
   ]
  },
  {
   "cell_type": "code",
   "execution_count": 75,
   "metadata": {},
   "outputs": [],
   "source": [
    "merged = merged.drop(['GPS_x'],axis=1)\n",
    "merged = merged.rename(mapper={'GPS_y': 'GPS'},axis='columns')"
   ]
  },
  {
   "cell_type": "markdown",
   "metadata": {},
   "source": [
    "20) NFC"
   ]
  },
  {
   "cell_type": "code",
   "execution_count": 76,
   "metadata": {},
   "outputs": [
    {
     "name": "stdout",
     "output_type": "stream",
     "text": [
      "Number of nan values for column \"NFC\" = 230\n"
     ]
    }
   ],
   "source": [
    "describe_column(merged,'NFC')"
   ]
  },
  {
   "cell_type": "code",
   "execution_count": 77,
   "metadata": {},
   "outputs": [],
   "source": [
    "for index, row in merged.iterrows():\n",
    "    if row['NFC'] == row['NFC']:\n",
    "        merged.loc[index,'NFC']=row['NFC']\n",
    "    else:\n",
    "        merged.loc[index,'NFC']=\"No\""
   ]
  },
  {
   "cell_type": "markdown",
   "metadata": {},
   "source": [
    "21) Големина на SIM картичка, број на SIM картички"
   ]
  },
  {
   "cell_type": "code",
   "execution_count": 78,
   "metadata": {},
   "outputs": [
    {
     "name": "stdout",
     "output_type": "stream",
     "text": [
      "Number of nan values for column \"Number of SIMs\" = 16\n",
      "Number of nan values for column \"Dual Sim\" = 0\n"
     ]
    }
   ],
   "source": [
    "describe_column(merged,'Number of SIMs')\n",
    "describe_column(merged,'Dual Sim')"
   ]
  },
  {
   "cell_type": "code",
   "execution_count": 79,
   "metadata": {},
   "outputs": [],
   "source": [
    "for index, row in merged.iterrows():\n",
    "    if row['Dual Sim'] == \"Dual Sim\":\n",
    "        merged.loc[index,'Number of SIMs']=2\n",
    "    else:\n",
    "        merged.loc[index,'Number of SIMs']=1"
   ]
  },
  {
   "cell_type": "code",
   "execution_count": 80,
   "metadata": {},
   "outputs": [
    {
     "name": "stdout",
     "output_type": "stream",
     "text": [
      "Number of nan values for column \"SIM Type\" = 29\n",
      "Number of nan values for column \"Sim Type\" = 0\n",
      "Number of nan values for column \"Sim Size\" = 27\n"
     ]
    }
   ],
   "source": [
    "describe_column(merged,'SIM Type')   \n",
    "describe_column(merged,'Sim Type')\n",
    "describe_column(merged,'Sim Size')"
   ]
  },
  {
   "cell_type": "code",
   "execution_count": 81,
   "metadata": {},
   "outputs": [],
   "source": [
    "for index, row in merged.iterrows():\n",
    "    if row['SIM Type'] == row['SIM Type']:\n",
    "        sim_type = row['SIM Type'].split(\"-\")[0]\n",
    "        merged.loc[index,'SIM Type']=sim_type\n",
    "    elif row['Sim Size'] == row['Sim Size']:\n",
    "        merged.loc[index,'SIM Type']=row['Sim Size'].replace(\"+\",\" \").split(\" \")[0]\n",
    "    else:\n",
    "        merged.loc[index,'SIM Type']=\"Nano\""
   ]
  },
  {
   "cell_type": "code",
   "execution_count": 82,
   "metadata": {},
   "outputs": [],
   "source": [
    "merged = merged.drop([\"Dual Sim\",\"Sim Type\",\"Sim Size\"],axis=1)"
   ]
  },
  {
   "cell_type": "markdown",
   "metadata": {},
   "source": [
    "22) 3G, 4G, 5G"
   ]
  },
  {
   "cell_type": "code",
   "execution_count": 83,
   "metadata": {},
   "outputs": [
    {
     "name": "stdout",
     "output_type": "stream",
     "text": [
      "Number of nan values for column \"3G_x\" = 37\n",
      "Number of nan values for column \"3G_y\" = 0\n",
      "Number of nan values for column \"4G/ LTE\" = 45\n",
      "Number of nan values for column \"5G\" = 373\n"
     ]
    }
   ],
   "source": [
    "describe_column(merged,'3G_x')  \n",
    "describe_column(merged,'3G_y')\n",
    "describe_column(merged,'4G/ LTE')\n",
    "describe_column(merged,'5G') "
   ]
  },
  {
   "cell_type": "code",
   "execution_count": 84,
   "metadata": {},
   "outputs": [],
   "source": [
    "for index, row in merged.iterrows():\n",
    "    if row['4G/ LTE'] != row['4G/ LTE']:\n",
    "        merged.loc[index,'4G/ LTE']=\"No\"\n",
    "    if row['5G'] != row['5G']:\n",
    "        merged.loc[index,'5G']=\"No\""
   ]
  },
  {
   "cell_type": "code",
   "execution_count": 85,
   "metadata": {},
   "outputs": [],
   "source": [
    "merged = merged.drop(['3G_x','Active 4G on both SIM cards','2G','Supports 4G in India (Band 40)'],axis=1)\n",
    "merged = merged.rename(mapper={'3G_y': '3G'},axis='columns')"
   ]
  },
  {
   "cell_type": "markdown",
   "metadata": {},
   "source": [
    "23) voLTE, EGDE, GPRS"
   ]
  },
  {
   "cell_type": "code",
   "execution_count": 86,
   "metadata": {},
   "outputs": [
    {
     "name": "stdout",
     "output_type": "stream",
     "text": [
      "Number of nan values for column \"VoLTE\" = 7\n",
      "Number of nan values for column \"GPRS\" = 4\n",
      "Number of nan values for column \"EDGE\" = 4\n"
     ]
    }
   ],
   "source": [
    "describe_column(merged,'VoLTE')  \n",
    "describe_column(merged,'GPRS')  \n",
    "describe_column(merged,'EDGE')  "
   ]
  },
  {
   "cell_type": "code",
   "execution_count": 87,
   "metadata": {},
   "outputs": [],
   "source": [
    "for index, row in merged.iterrows():\n",
    "    if row['EDGE'] != row['EDGE']:\n",
    "        merged.loc[index,'EDGE']=\"No\"\n",
    "    if row['GPRS'] != row['GPRS']:\n",
    "        merged.loc[index,'GPRS']=1\n",
    "    if row['VoLTE'] != row['VoLTE']:\n",
    "        merged.loc[index,'VoLTE']=1"
   ]
  },
  {
   "cell_type": "markdown",
   "metadata": {},
   "source": [
    "24) Card slot"
   ]
  },
  {
   "cell_type": "code",
   "execution_count": 88,
   "metadata": {},
   "outputs": [
    {
     "name": "stdout",
     "output_type": "stream",
     "text": [
      "Number of nan values for column \"Card Slot\" = 1\n"
     ]
    }
   ],
   "source": [
    "describe_column(merged,'Card Slot')  "
   ]
  },
  {
   "cell_type": "code",
   "execution_count": 89,
   "metadata": {},
   "outputs": [],
   "source": [
    "for index, row in merged.iterrows():\n",
    "    if row['Card Slot'] != row['Card Slot']:\n",
    "        merged.loc[index,'Card Slot']=\"No\""
   ]
  },
  {
   "cell_type": "markdown",
   "metadata": {},
   "source": [
    "25) Fast Charging"
   ]
  },
  {
   "cell_type": "code",
   "execution_count": 90,
   "metadata": {},
   "outputs": [
    {
     "name": "stdout",
     "output_type": "stream",
     "text": [
      "Number of nan values for column \"Fast Charging\" = 134\n"
     ]
    }
   ],
   "source": [
    "describe_column(merged,'Fast Charging')  "
   ]
  },
  {
   "cell_type": "code",
   "execution_count": 91,
   "metadata": {},
   "outputs": [],
   "source": [
    "for index, row in merged.iterrows():\n",
    "    if row['Fast Charging'] != row['Fast Charging']:\n",
    "        merged.loc[index,'Fast Charging']=\"No\""
   ]
  },
  {
   "cell_type": "markdown",
   "metadata": {},
   "source": [
    "26) FM Radio"
   ]
  },
  {
   "cell_type": "code",
   "execution_count": 92,
   "metadata": {},
   "outputs": [
    {
     "name": "stdout",
     "output_type": "stream",
     "text": [
      "Number of nan values for column \"FM Radio\" = 28\n"
     ]
    }
   ],
   "source": [
    "describe_column(merged,'FM Radio')"
   ]
  },
  {
   "cell_type": "code",
   "execution_count": 93,
   "metadata": {},
   "outputs": [],
   "source": [
    "for index, row in merged.iterrows():\n",
    "    if row['FM Radio'] != row['FM Radio']:\n",
    "        merged.loc[index,'FM Radio']=\"No\""
   ]
  },
  {
   "cell_type": "markdown",
   "metadata": {},
   "source": [
    "27) Chipset"
   ]
  },
  {
   "cell_type": "code",
   "execution_count": 94,
   "metadata": {},
   "outputs": [
    {
     "name": "stdout",
     "output_type": "stream",
     "text": [
      "Number of nan values for column \"Chipset\" = 1\n",
      "Number of nan values for column \"Chipset Model\" = 12\n",
      "Number of nan values for column \"Chipset Series\" = 61\n"
     ]
    }
   ],
   "source": [
    "describe_column(merged, 'Chipset') \n",
    "describe_column(merged,'Chipset Model')  \n",
    "describe_column(merged,'Chipset Series')  "
   ]
  },
  {
   "cell_type": "code",
   "execution_count": 95,
   "metadata": {},
   "outputs": [],
   "source": [
    "for index, row in merged.iterrows():\n",
    "    if row[\"Chipset\"] == row[\"Chipset\"]:\n",
    "        merged.loc[index,'Chipset']=row['Chipset'].lower()\n",
    "    else:\n",
    "        merged.loc[index,'Chipset']=\"qualicom\"  #најчестата категорија"
   ]
  },
  {
   "cell_type": "code",
   "execution_count": 96,
   "metadata": {},
   "outputs": [],
   "source": [
    "merged = merged.drop([\"Chipset Series\",\"Chipset Model\"],axis=1)"
   ]
  },
  {
   "cell_type": "markdown",
   "metadata": {},
   "source": [
    "28) Цена "
   ]
  },
  {
   "cell_type": "code",
   "execution_count": 97,
   "metadata": {},
   "outputs": [
    {
     "name": "stdout",
     "output_type": "stream",
     "text": [
      "Number of nan values for column \"price\" = 0\n"
     ]
    }
   ],
   "source": [
    "describe_column(merged,\"price\")"
   ]
  },
  {
   "cell_type": "code",
   "execution_count": 98,
   "metadata": {},
   "outputs": [],
   "source": [
    "for index, row in merged.iterrows():\n",
    "    if row['price'] == row['price']:\n",
    "        merged.loc[index,'price']=row['price'].replace(\",\",\"\")\n",
    "merged['price'] = merged['price'].astype(int)"
   ]
  },
  {
   "cell_type": "code",
   "execution_count": 99,
   "metadata": {},
   "outputs": [],
   "source": [
    "merged = merged.rename(mapper={'price': 'Price'},axis='columns')"
   ]
  },
  {
   "cell_type": "markdown",
   "metadata": {},
   "source": [
    "Непотребни атрибути"
   ]
  },
  {
   "cell_type": "code",
   "execution_count": 100,
   "metadata": {},
   "outputs": [],
   "source": [
    "merged = merged.drop(['Skin','manufacturer','model','Browser',\"Browser Supports\",'3.5mm Headphone Jack','Video','Email',\n",
    "                     'Music Playback Time',\"Device Type\",\"Type\",'Music',\"Extra Features\",'Document Reader',\"Video Recording\",\n",
    "                     \"Notch\", \"Screen to Body Ratio\", \"Aspect Ratio\",'Features',\"Model\",\"GPU\"],axis=1)"
   ]
  },
  {
   "cell_type": "markdown",
   "metadata": {},
   "source": [
    "### Преглед на новите атрибути "
   ]
  },
  {
   "cell_type": "code",
   "execution_count": 101,
   "metadata": {
    "scrolled": false
   },
   "outputs": [
    {
     "name": "stdout",
     "output_type": "stream",
     "text": [
      "1 Brand\n",
      "2 Battery capacity\n",
      "3 Screen Size\n",
      "4 Touchscreen\n",
      "5 Internal storage\n",
      "6 Headphones\n",
      "7 Face unlock\n",
      "8 Fingerprint sensor\n",
      "9 Wireless charging\n",
      "10 NFC\n",
      "11 Number of SIMs\n",
      "12 SIM Type\n",
      "13 4G/ LTE\n",
      "14 5G\n",
      "15 Expandable storage\n",
      "16 Price\n",
      "17 3G\n",
      "18 EDGE\n",
      "19 GPRS\n",
      "20 Wi-Fi\n",
      "21 VoLTE\n",
      "22 Usb Type\n",
      "23 Bluetooth\n",
      "24 OS\n",
      "25 cpuCores\n",
      "26 Chipset\n",
      "27 CPU\n",
      "28 GPS\n",
      "29 RAM\n",
      "30 FM Radio\n",
      "31 Rear Camera\n",
      "32 Flash\n",
      "33 Front Camera\n",
      "34 PPI\n",
      "35 Width\n",
      "36 Height\n",
      "37 Weight\n",
      "38 Fast Charging\n",
      "39 Removable Battery\n",
      "40 Card Slot\n",
      "41 Launched_Month\n",
      "42 Launched_Year\n",
      "43 Number of Rear Cameras\n",
      "44 Resolution_x\n",
      "45 Resolution_y\n",
      "46 Light Sensor\n",
      "47 Compass Sensor\n",
      "48 Proximity Sensor\n",
      "49 Magnetic Sensor\n",
      "50 Gravity Sensor\n",
      "51 Heathtracking Sensor\n",
      "52 Gyroscope Sensor\n",
      "53 Accelerometar Sensor\n",
      "54 Vibration Sensor\n",
      "55 Laser Sensor\n"
     ]
    }
   ],
   "source": [
    "i = 1 \n",
    "for column in merged.columns:\n",
    "    print(str(i)+ \" \" + column)\n",
    "    i= i+1"
   ]
  },
  {
   "cell_type": "code",
   "execution_count": 102,
   "metadata": {},
   "outputs": [],
   "source": [
    "merged.to_csv(\"../data/merged.csv\")"
   ]
  }
 ],
 "metadata": {
  "kernelspec": {
   "display_name": "Python 3",
   "language": "python",
   "name": "python3"
  },
  "language_info": {
   "codemirror_mode": {
    "name": "ipython",
    "version": 3
   },
   "file_extension": ".py",
   "mimetype": "text/x-python",
   "name": "python",
   "nbconvert_exporter": "python",
   "pygments_lexer": "ipython3",
   "version": "3.6.12"
  }
 },
 "nbformat": 4,
 "nbformat_minor": 2
}
